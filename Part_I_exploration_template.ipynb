{
 "cells": [
  {
   "cell_type": "markdown",
   "metadata": {},
   "source": [
    "# Part I\n",
    "# **Ford GoBike / bike-sharing system - San Francisco Bay area**\n",
    ">### - in the period February 2019 -\n",
    "\n",
    ">## by Michael Hasterok\n",
    "\n",
    "\n",
    "\n",
    "## Preliminary Wrangling"
   ]
  },
  {
   "cell_type": "code",
   "execution_count": 2,
   "metadata": {},
   "outputs": [],
   "source": [
    "# import packages and set plots to be embedded inline\n",
    "import numpy as np\n",
    "import pandas as pd\n",
    "import matplotlib.pyplot as plt\n",
    "import seaborn as sb\n",
    "\n",
    "%matplotlib inline"
   ]
  },
  {
   "cell_type": "code",
   "execution_count": 3,
   "metadata": {
    "scrolled": true
   },
   "outputs": [
    {
     "name": "stdout",
     "output_type": "stream",
     "text": [
      "(183412, 16)\n",
      "<class 'pandas.core.frame.DataFrame'>\n",
      "RangeIndex: 183412 entries, 0 to 183411\n",
      "Data columns (total 16 columns):\n",
      " #   Column                   Non-Null Count   Dtype  \n",
      "---  ------                   --------------   -----  \n",
      " 0   duration_sec             183412 non-null  int64  \n",
      " 1   start_time               183412 non-null  object \n",
      " 2   end_time                 183412 non-null  object \n",
      " 3   start_station_id         183215 non-null  float64\n",
      " 4   start_station_name       183215 non-null  object \n",
      " 5   start_station_latitude   183412 non-null  float64\n",
      " 6   start_station_longitude  183412 non-null  float64\n",
      " 7   end_station_id           183215 non-null  float64\n",
      " 8   end_station_name         183215 non-null  object \n",
      " 9   end_station_latitude     183412 non-null  float64\n",
      " 10  end_station_longitude    183412 non-null  float64\n",
      " 11  bike_id                  183412 non-null  int64  \n",
      " 12  user_type                183412 non-null  object \n",
      " 13  member_birth_year        175147 non-null  float64\n",
      " 14  member_gender            175147 non-null  object \n",
      " 15  bike_share_for_all_trip  183412 non-null  object \n",
      "dtypes: float64(7), int64(2), object(7)\n",
      "memory usage: 22.4+ MB\n",
      "None\n"
     ]
    }
   ],
   "source": [
    "# load dataset\n",
    "df_bike = pd.read_csv('201902-fordgobike-tripdata.csv')\n",
    "print(df_bike.shape)\n",
    "print(df_bike.info())"
   ]
  },
  {
   "cell_type": "code",
   "execution_count": 4,
   "metadata": {},
   "outputs": [
    {
     "data": {
      "text/plain": [
       "0"
      ]
     },
     "execution_count": 4,
     "metadata": {},
     "output_type": "execute_result"
    }
   ],
   "source": [
    "sum(df_bike.duplicated()) "
   ]
  },
  {
   "cell_type": "code",
   "execution_count": 5,
   "metadata": {
    "scrolled": true
   },
   "outputs": [
    {
     "data": {
      "text/plain": [
       "duration_sec                  0\n",
       "start_time                    0\n",
       "end_time                      0\n",
       "start_station_id            197\n",
       "start_station_name          197\n",
       "start_station_latitude        0\n",
       "start_station_longitude       0\n",
       "end_station_id              197\n",
       "end_station_name            197\n",
       "end_station_latitude          0\n",
       "end_station_longitude         0\n",
       "bike_id                       0\n",
       "user_type                     0\n",
       "member_birth_year          8265\n",
       "member_gender              8265\n",
       "bike_share_for_all_trip       0\n",
       "dtype: int64"
      ]
     },
     "execution_count": 5,
     "metadata": {},
     "output_type": "execute_result"
    }
   ],
   "source": [
    "df_bike.isna().sum()"
   ]
  },
  {
   "cell_type": "code",
   "execution_count": 6,
   "metadata": {},
   "outputs": [
    {
     "data": {
      "text/html": [
       "<div>\n",
       "<style scoped>\n",
       "    .dataframe tbody tr th:only-of-type {\n",
       "        vertical-align: middle;\n",
       "    }\n",
       "\n",
       "    .dataframe tbody tr th {\n",
       "        vertical-align: top;\n",
       "    }\n",
       "\n",
       "    .dataframe thead th {\n",
       "        text-align: right;\n",
       "    }\n",
       "</style>\n",
       "<table border=\"1\" class=\"dataframe\">\n",
       "  <thead>\n",
       "    <tr style=\"text-align: right;\">\n",
       "      <th></th>\n",
       "      <th>duration_sec</th>\n",
       "      <th>start_time</th>\n",
       "      <th>end_time</th>\n",
       "      <th>start_station_id</th>\n",
       "      <th>start_station_name</th>\n",
       "      <th>start_station_latitude</th>\n",
       "      <th>start_station_longitude</th>\n",
       "      <th>end_station_id</th>\n",
       "      <th>end_station_name</th>\n",
       "      <th>end_station_latitude</th>\n",
       "      <th>end_station_longitude</th>\n",
       "      <th>bike_id</th>\n",
       "      <th>user_type</th>\n",
       "      <th>member_birth_year</th>\n",
       "      <th>member_gender</th>\n",
       "      <th>bike_share_for_all_trip</th>\n",
       "    </tr>\n",
       "  </thead>\n",
       "  <tbody>\n",
       "    <tr>\n",
       "      <th>137969</th>\n",
       "      <td>471</td>\n",
       "      <td>2019-02-08 08:11:59.8480</td>\n",
       "      <td>2019-02-08 08:19:51.7940</td>\n",
       "      <td>15.0</td>\n",
       "      <td>San Francisco Ferry Building (Harry Bridges Pl...</td>\n",
       "      <td>37.795392</td>\n",
       "      <td>-122.394203</td>\n",
       "      <td>6.0</td>\n",
       "      <td>The Embarcadero at Sansome St</td>\n",
       "      <td>37.80477</td>\n",
       "      <td>-122.403234</td>\n",
       "      <td>3237</td>\n",
       "      <td>Subscriber</td>\n",
       "      <td>1996.0</td>\n",
       "      <td>Female</td>\n",
       "      <td>No</td>\n",
       "    </tr>\n",
       "  </tbody>\n",
       "</table>\n",
       "</div>"
      ],
      "text/plain": [
       "        duration_sec                start_time                  end_time  \\\n",
       "137969           471  2019-02-08 08:11:59.8480  2019-02-08 08:19:51.7940   \n",
       "\n",
       "        start_station_id                                 start_station_name  \\\n",
       "137969              15.0  San Francisco Ferry Building (Harry Bridges Pl...   \n",
       "\n",
       "        start_station_latitude  start_station_longitude  end_station_id  \\\n",
       "137969               37.795392              -122.394203             6.0   \n",
       "\n",
       "                     end_station_name  end_station_latitude  \\\n",
       "137969  The Embarcadero at Sansome St              37.80477   \n",
       "\n",
       "        end_station_longitude  bike_id   user_type  member_birth_year  \\\n",
       "137969            -122.403234     3237  Subscriber             1996.0   \n",
       "\n",
       "       member_gender bike_share_for_all_trip  \n",
       "137969        Female                      No  "
      ]
     },
     "execution_count": 6,
     "metadata": {},
     "output_type": "execute_result"
    }
   ],
   "source": [
    "df_bike.sample()"
   ]
  },
  {
   "cell_type": "code",
   "execution_count": 7,
   "metadata": {},
   "outputs": [
    {
     "data": {
      "text/html": [
       "<div>\n",
       "<style scoped>\n",
       "    .dataframe tbody tr th:only-of-type {\n",
       "        vertical-align: middle;\n",
       "    }\n",
       "\n",
       "    .dataframe tbody tr th {\n",
       "        vertical-align: top;\n",
       "    }\n",
       "\n",
       "    .dataframe thead th {\n",
       "        text-align: right;\n",
       "    }\n",
       "</style>\n",
       "<table border=\"1\" class=\"dataframe\">\n",
       "  <thead>\n",
       "    <tr style=\"text-align: right;\">\n",
       "      <th></th>\n",
       "      <th>duration_sec</th>\n",
       "      <th>member_birth_year</th>\n",
       "    </tr>\n",
       "  </thead>\n",
       "  <tbody>\n",
       "    <tr>\n",
       "      <th>count</th>\n",
       "      <td>183412.000000</td>\n",
       "      <td>175147.000000</td>\n",
       "    </tr>\n",
       "    <tr>\n",
       "      <th>mean</th>\n",
       "      <td>726.078435</td>\n",
       "      <td>1984.806437</td>\n",
       "    </tr>\n",
       "    <tr>\n",
       "      <th>std</th>\n",
       "      <td>1794.389780</td>\n",
       "      <td>10.116689</td>\n",
       "    </tr>\n",
       "    <tr>\n",
       "      <th>min</th>\n",
       "      <td>61.000000</td>\n",
       "      <td>1878.000000</td>\n",
       "    </tr>\n",
       "    <tr>\n",
       "      <th>25%</th>\n",
       "      <td>325.000000</td>\n",
       "      <td>1980.000000</td>\n",
       "    </tr>\n",
       "    <tr>\n",
       "      <th>50%</th>\n",
       "      <td>514.000000</td>\n",
       "      <td>1987.000000</td>\n",
       "    </tr>\n",
       "    <tr>\n",
       "      <th>75%</th>\n",
       "      <td>796.000000</td>\n",
       "      <td>1992.000000</td>\n",
       "    </tr>\n",
       "    <tr>\n",
       "      <th>max</th>\n",
       "      <td>85444.000000</td>\n",
       "      <td>2001.000000</td>\n",
       "    </tr>\n",
       "  </tbody>\n",
       "</table>\n",
       "</div>"
      ],
      "text/plain": [
       "        duration_sec  member_birth_year\n",
       "count  183412.000000      175147.000000\n",
       "mean      726.078435        1984.806437\n",
       "std      1794.389780          10.116689\n",
       "min        61.000000        1878.000000\n",
       "25%       325.000000        1980.000000\n",
       "50%       514.000000        1987.000000\n",
       "75%       796.000000        1992.000000\n",
       "max     85444.000000        2001.000000"
      ]
     },
     "execution_count": 7,
     "metadata": {},
     "output_type": "execute_result"
    }
   ],
   "source": [
    "df_bike[['duration_sec', 'member_birth_year']].describe()"
   ]
  },
  {
   "cell_type": "code",
   "execution_count": 8,
   "metadata": {},
   "outputs": [
    {
     "name": "stdout",
     "output_type": "stream",
     "text": [
      "[-121.94 -121.95 -121.93 -121.92 -121.96 -121.98]\n",
      "[37.4  37.41 37.39 37.42 37.38]\n"
     ]
    }
   ],
   "source": [
    "df_station_isna = df_bike[df_bike['start_station_id'].isna()]\n",
    "print(df_station_isna['start_station_longitude'].unique())\n",
    "print(df_station_isna['start_station_latitude'].unique())"
   ]
  },
  {
   "cell_type": "code",
   "execution_count": 9,
   "metadata": {},
   "outputs": [
    {
     "data": {
      "text/plain": [
       "330"
      ]
     },
     "execution_count": 9,
     "metadata": {},
     "output_type": "execute_result"
    }
   ],
   "source": [
    "# Quantity Start Stations\n",
    "start_stations = df_bike['start_station_id'].unique()\n",
    "np.count_nonzero(start_stations)"
   ]
  },
  {
   "cell_type": "code",
   "execution_count": 10,
   "metadata": {},
   "outputs": [
    {
     "data": {
      "text/html": [
       "<div>\n",
       "<style scoped>\n",
       "    .dataframe tbody tr th:only-of-type {\n",
       "        vertical-align: middle;\n",
       "    }\n",
       "\n",
       "    .dataframe tbody tr th {\n",
       "        vertical-align: top;\n",
       "    }\n",
       "\n",
       "    .dataframe thead th {\n",
       "        text-align: right;\n",
       "    }\n",
       "</style>\n",
       "<table border=\"1\" class=\"dataframe\">\n",
       "  <thead>\n",
       "    <tr style=\"text-align: right;\">\n",
       "      <th></th>\n",
       "      <th>duration_sec</th>\n",
       "      <th>start_time</th>\n",
       "      <th>end_time</th>\n",
       "      <th>start_station_id</th>\n",
       "      <th>start_station_name</th>\n",
       "      <th>start_station_latitude</th>\n",
       "      <th>start_station_longitude</th>\n",
       "      <th>end_station_id</th>\n",
       "      <th>end_station_name</th>\n",
       "      <th>end_station_latitude</th>\n",
       "      <th>end_station_longitude</th>\n",
       "      <th>bike_id</th>\n",
       "      <th>user_type</th>\n",
       "      <th>member_birth_year</th>\n",
       "      <th>member_gender</th>\n",
       "      <th>bike_share_for_all_trip</th>\n",
       "    </tr>\n",
       "  </thead>\n",
       "  <tbody>\n",
       "    <tr>\n",
       "      <th>475</th>\n",
       "      <td>1709</td>\n",
       "      <td>2019-02-28 20:55:53.9320</td>\n",
       "      <td>2019-02-28 21:24:23.7380</td>\n",
       "      <td>NaN</td>\n",
       "      <td>NaN</td>\n",
       "      <td>37.40</td>\n",
       "      <td>-121.94</td>\n",
       "      <td>NaN</td>\n",
       "      <td>NaN</td>\n",
       "      <td>37.40</td>\n",
       "      <td>-121.93</td>\n",
       "      <td>4211</td>\n",
       "      <td>Customer</td>\n",
       "      <td>1991.0</td>\n",
       "      <td>Female</td>\n",
       "      <td>No</td>\n",
       "    </tr>\n",
       "    <tr>\n",
       "      <th>1733</th>\n",
       "      <td>1272</td>\n",
       "      <td>2019-02-28 18:32:34.2730</td>\n",
       "      <td>2019-02-28 18:53:46.7270</td>\n",
       "      <td>NaN</td>\n",
       "      <td>NaN</td>\n",
       "      <td>37.40</td>\n",
       "      <td>-121.94</td>\n",
       "      <td>NaN</td>\n",
       "      <td>NaN</td>\n",
       "      <td>37.41</td>\n",
       "      <td>-121.96</td>\n",
       "      <td>4174</td>\n",
       "      <td>Subscriber</td>\n",
       "      <td>1980.0</td>\n",
       "      <td>Male</td>\n",
       "      <td>No</td>\n",
       "    </tr>\n",
       "    <tr>\n",
       "      <th>3625</th>\n",
       "      <td>142</td>\n",
       "      <td>2019-02-28 17:10:46.5290</td>\n",
       "      <td>2019-02-28 17:13:09.4310</td>\n",
       "      <td>NaN</td>\n",
       "      <td>NaN</td>\n",
       "      <td>37.41</td>\n",
       "      <td>-121.95</td>\n",
       "      <td>NaN</td>\n",
       "      <td>NaN</td>\n",
       "      <td>37.41</td>\n",
       "      <td>-121.96</td>\n",
       "      <td>4283</td>\n",
       "      <td>Subscriber</td>\n",
       "      <td>1988.0</td>\n",
       "      <td>Male</td>\n",
       "      <td>No</td>\n",
       "    </tr>\n",
       "    <tr>\n",
       "      <th>4070</th>\n",
       "      <td>585</td>\n",
       "      <td>2019-02-28 16:28:45.9340</td>\n",
       "      <td>2019-02-28 16:38:31.3320</td>\n",
       "      <td>NaN</td>\n",
       "      <td>NaN</td>\n",
       "      <td>37.39</td>\n",
       "      <td>-121.93</td>\n",
       "      <td>NaN</td>\n",
       "      <td>NaN</td>\n",
       "      <td>37.40</td>\n",
       "      <td>-121.92</td>\n",
       "      <td>4089</td>\n",
       "      <td>Subscriber</td>\n",
       "      <td>1984.0</td>\n",
       "      <td>Male</td>\n",
       "      <td>Yes</td>\n",
       "    </tr>\n",
       "    <tr>\n",
       "      <th>5654</th>\n",
       "      <td>509</td>\n",
       "      <td>2019-02-28 12:30:17.1310</td>\n",
       "      <td>2019-02-28 12:38:46.3290</td>\n",
       "      <td>NaN</td>\n",
       "      <td>NaN</td>\n",
       "      <td>37.40</td>\n",
       "      <td>-121.92</td>\n",
       "      <td>NaN</td>\n",
       "      <td>NaN</td>\n",
       "      <td>37.39</td>\n",
       "      <td>-121.93</td>\n",
       "      <td>4089</td>\n",
       "      <td>Subscriber</td>\n",
       "      <td>1984.0</td>\n",
       "      <td>Male</td>\n",
       "      <td>Yes</td>\n",
       "    </tr>\n",
       "    <tr>\n",
       "      <th>...</th>\n",
       "      <td>...</td>\n",
       "      <td>...</td>\n",
       "      <td>...</td>\n",
       "      <td>...</td>\n",
       "      <td>...</td>\n",
       "      <td>...</td>\n",
       "      <td>...</td>\n",
       "      <td>...</td>\n",
       "      <td>...</td>\n",
       "      <td>...</td>\n",
       "      <td>...</td>\n",
       "      <td>...</td>\n",
       "      <td>...</td>\n",
       "      <td>...</td>\n",
       "      <td>...</td>\n",
       "      <td>...</td>\n",
       "    </tr>\n",
       "    <tr>\n",
       "      <th>176154</th>\n",
       "      <td>1447</td>\n",
       "      <td>2019-02-02 12:03:04.5440</td>\n",
       "      <td>2019-02-02 12:27:12.2670</td>\n",
       "      <td>NaN</td>\n",
       "      <td>NaN</td>\n",
       "      <td>37.40</td>\n",
       "      <td>-121.93</td>\n",
       "      <td>NaN</td>\n",
       "      <td>NaN</td>\n",
       "      <td>37.40</td>\n",
       "      <td>-121.93</td>\n",
       "      <td>4249</td>\n",
       "      <td>Customer</td>\n",
       "      <td>1984.0</td>\n",
       "      <td>Male</td>\n",
       "      <td>No</td>\n",
       "    </tr>\n",
       "    <tr>\n",
       "      <th>179730</th>\n",
       "      <td>309</td>\n",
       "      <td>2019-02-01 12:59:45.9690</td>\n",
       "      <td>2019-02-01 13:04:55.4260</td>\n",
       "      <td>NaN</td>\n",
       "      <td>NaN</td>\n",
       "      <td>37.40</td>\n",
       "      <td>-121.94</td>\n",
       "      <td>NaN</td>\n",
       "      <td>NaN</td>\n",
       "      <td>37.40</td>\n",
       "      <td>-121.93</td>\n",
       "      <td>4249</td>\n",
       "      <td>Customer</td>\n",
       "      <td>1987.0</td>\n",
       "      <td>Female</td>\n",
       "      <td>No</td>\n",
       "    </tr>\n",
       "    <tr>\n",
       "      <th>179970</th>\n",
       "      <td>659</td>\n",
       "      <td>2019-02-01 12:17:37.6750</td>\n",
       "      <td>2019-02-01 12:28:37.0140</td>\n",
       "      <td>NaN</td>\n",
       "      <td>NaN</td>\n",
       "      <td>37.41</td>\n",
       "      <td>-121.96</td>\n",
       "      <td>NaN</td>\n",
       "      <td>NaN</td>\n",
       "      <td>37.41</td>\n",
       "      <td>-121.94</td>\n",
       "      <td>4092</td>\n",
       "      <td>Subscriber</td>\n",
       "      <td>1999.0</td>\n",
       "      <td>Female</td>\n",
       "      <td>No</td>\n",
       "    </tr>\n",
       "    <tr>\n",
       "      <th>180106</th>\n",
       "      <td>2013</td>\n",
       "      <td>2019-02-01 11:33:55.1470</td>\n",
       "      <td>2019-02-01 12:07:28.9400</td>\n",
       "      <td>NaN</td>\n",
       "      <td>NaN</td>\n",
       "      <td>37.40</td>\n",
       "      <td>-121.94</td>\n",
       "      <td>NaN</td>\n",
       "      <td>NaN</td>\n",
       "      <td>37.40</td>\n",
       "      <td>-121.94</td>\n",
       "      <td>4251</td>\n",
       "      <td>Customer</td>\n",
       "      <td>1990.0</td>\n",
       "      <td>Female</td>\n",
       "      <td>No</td>\n",
       "    </tr>\n",
       "    <tr>\n",
       "      <th>181201</th>\n",
       "      <td>312</td>\n",
       "      <td>2019-02-01 09:26:34.8030</td>\n",
       "      <td>2019-02-01 09:31:46.9210</td>\n",
       "      <td>NaN</td>\n",
       "      <td>NaN</td>\n",
       "      <td>37.40</td>\n",
       "      <td>-121.93</td>\n",
       "      <td>NaN</td>\n",
       "      <td>NaN</td>\n",
       "      <td>37.40</td>\n",
       "      <td>-121.93</td>\n",
       "      <td>4208</td>\n",
       "      <td>Subscriber</td>\n",
       "      <td>1987.0</td>\n",
       "      <td>Male</td>\n",
       "      <td>No</td>\n",
       "    </tr>\n",
       "  </tbody>\n",
       "</table>\n",
       "<p>197 rows × 16 columns</p>\n",
       "</div>"
      ],
      "text/plain": [
       "        duration_sec                start_time                  end_time  \\\n",
       "475             1709  2019-02-28 20:55:53.9320  2019-02-28 21:24:23.7380   \n",
       "1733            1272  2019-02-28 18:32:34.2730  2019-02-28 18:53:46.7270   \n",
       "3625             142  2019-02-28 17:10:46.5290  2019-02-28 17:13:09.4310   \n",
       "4070             585  2019-02-28 16:28:45.9340  2019-02-28 16:38:31.3320   \n",
       "5654             509  2019-02-28 12:30:17.1310  2019-02-28 12:38:46.3290   \n",
       "...              ...                       ...                       ...   \n",
       "176154          1447  2019-02-02 12:03:04.5440  2019-02-02 12:27:12.2670   \n",
       "179730           309  2019-02-01 12:59:45.9690  2019-02-01 13:04:55.4260   \n",
       "179970           659  2019-02-01 12:17:37.6750  2019-02-01 12:28:37.0140   \n",
       "180106          2013  2019-02-01 11:33:55.1470  2019-02-01 12:07:28.9400   \n",
       "181201           312  2019-02-01 09:26:34.8030  2019-02-01 09:31:46.9210   \n",
       "\n",
       "        start_station_id start_station_name  start_station_latitude  \\\n",
       "475                  NaN                NaN                   37.40   \n",
       "1733                 NaN                NaN                   37.40   \n",
       "3625                 NaN                NaN                   37.41   \n",
       "4070                 NaN                NaN                   37.39   \n",
       "5654                 NaN                NaN                   37.40   \n",
       "...                  ...                ...                     ...   \n",
       "176154               NaN                NaN                   37.40   \n",
       "179730               NaN                NaN                   37.40   \n",
       "179970               NaN                NaN                   37.41   \n",
       "180106               NaN                NaN                   37.40   \n",
       "181201               NaN                NaN                   37.40   \n",
       "\n",
       "        start_station_longitude  end_station_id end_station_name  \\\n",
       "475                     -121.94             NaN              NaN   \n",
       "1733                    -121.94             NaN              NaN   \n",
       "3625                    -121.95             NaN              NaN   \n",
       "4070                    -121.93             NaN              NaN   \n",
       "5654                    -121.92             NaN              NaN   \n",
       "...                         ...             ...              ...   \n",
       "176154                  -121.93             NaN              NaN   \n",
       "179730                  -121.94             NaN              NaN   \n",
       "179970                  -121.96             NaN              NaN   \n",
       "180106                  -121.94             NaN              NaN   \n",
       "181201                  -121.93             NaN              NaN   \n",
       "\n",
       "        end_station_latitude  end_station_longitude  bike_id   user_type  \\\n",
       "475                    37.40                -121.93     4211    Customer   \n",
       "1733                   37.41                -121.96     4174  Subscriber   \n",
       "3625                   37.41                -121.96     4283  Subscriber   \n",
       "4070                   37.40                -121.92     4089  Subscriber   \n",
       "5654                   37.39                -121.93     4089  Subscriber   \n",
       "...                      ...                    ...      ...         ...   \n",
       "176154                 37.40                -121.93     4249    Customer   \n",
       "179730                 37.40                -121.93     4249    Customer   \n",
       "179970                 37.41                -121.94     4092  Subscriber   \n",
       "180106                 37.40                -121.94     4251    Customer   \n",
       "181201                 37.40                -121.93     4208  Subscriber   \n",
       "\n",
       "        member_birth_year member_gender bike_share_for_all_trip  \n",
       "475                1991.0        Female                      No  \n",
       "1733               1980.0          Male                      No  \n",
       "3625               1988.0          Male                      No  \n",
       "4070               1984.0          Male                     Yes  \n",
       "5654               1984.0          Male                     Yes  \n",
       "...                   ...           ...                     ...  \n",
       "176154             1984.0          Male                      No  \n",
       "179730             1987.0        Female                      No  \n",
       "179970             1999.0        Female                      No  \n",
       "180106             1990.0        Female                      No  \n",
       "181201             1987.0          Male                      No  \n",
       "\n",
       "[197 rows x 16 columns]"
      ]
     },
     "execution_count": 10,
     "metadata": {},
     "output_type": "execute_result"
    }
   ],
   "source": [
    "df_bike[df_bike['start_station_longitude'].isin([-121.94, -121.95, -121.93, -121.92, -121.96, -121.98])]"
   ]
  },
  {
   "cell_type": "markdown",
   "metadata": {},
   "source": [
    "## Cleaning data"
   ]
  },
  {
   "cell_type": "code",
   "execution_count": 11,
   "metadata": {},
   "outputs": [],
   "source": [
    "# make a copy - df_bc == Data Frame Bike Clean\n",
    "df_bc = df_bike.copy()"
   ]
  },
  {
   "cell_type": "code",
   "execution_count": 12,
   "metadata": {},
   "outputs": [
    {
     "data": {
      "text/html": [
       "<div>\n",
       "<style scoped>\n",
       "    .dataframe tbody tr th:only-of-type {\n",
       "        vertical-align: middle;\n",
       "    }\n",
       "\n",
       "    .dataframe tbody tr th {\n",
       "        vertical-align: top;\n",
       "    }\n",
       "\n",
       "    .dataframe thead th {\n",
       "        text-align: right;\n",
       "    }\n",
       "</style>\n",
       "<table border=\"1\" class=\"dataframe\">\n",
       "  <thead>\n",
       "    <tr style=\"text-align: right;\">\n",
       "      <th></th>\n",
       "      <th>duration_sec</th>\n",
       "      <th>start_time</th>\n",
       "      <th>end_time</th>\n",
       "      <th>start_station_id</th>\n",
       "      <th>start_station_name</th>\n",
       "      <th>start_station_latitude</th>\n",
       "      <th>start_station_longitude</th>\n",
       "      <th>end_station_id</th>\n",
       "      <th>end_station_name</th>\n",
       "      <th>end_station_latitude</th>\n",
       "      <th>end_station_longitude</th>\n",
       "      <th>bike_id</th>\n",
       "      <th>user_type</th>\n",
       "      <th>member_birth_year</th>\n",
       "      <th>member_gender</th>\n",
       "      <th>bike_share_for_all_trip</th>\n",
       "    </tr>\n",
       "  </thead>\n",
       "  <tbody>\n",
       "    <tr>\n",
       "      <th>0</th>\n",
       "      <td>52185</td>\n",
       "      <td>2019-02-28 17:32:10.1450</td>\n",
       "      <td>2019-03-01 08:01:55.9750</td>\n",
       "      <td>21.0</td>\n",
       "      <td>Montgomery St BART Station (Market St at 2nd St)</td>\n",
       "      <td>37.789625</td>\n",
       "      <td>-122.400811</td>\n",
       "      <td>13.0</td>\n",
       "      <td>Commercial St at Montgomery St</td>\n",
       "      <td>37.794231</td>\n",
       "      <td>-122.402923</td>\n",
       "      <td>4902</td>\n",
       "      <td>Customer</td>\n",
       "      <td>1984.0</td>\n",
       "      <td>Male</td>\n",
       "      <td>No</td>\n",
       "    </tr>\n",
       "    <tr>\n",
       "      <th>1</th>\n",
       "      <td>42521</td>\n",
       "      <td>2019-02-28 18:53:21.7890</td>\n",
       "      <td>2019-03-01 06:42:03.0560</td>\n",
       "      <td>23.0</td>\n",
       "      <td>The Embarcadero at Steuart St</td>\n",
       "      <td>37.791464</td>\n",
       "      <td>-122.391034</td>\n",
       "      <td>81.0</td>\n",
       "      <td>Berry St at 4th St</td>\n",
       "      <td>37.775880</td>\n",
       "      <td>-122.393170</td>\n",
       "      <td>2535</td>\n",
       "      <td>Customer</td>\n",
       "      <td>NaN</td>\n",
       "      <td>NaN</td>\n",
       "      <td>No</td>\n",
       "    </tr>\n",
       "    <tr>\n",
       "      <th>2</th>\n",
       "      <td>61854</td>\n",
       "      <td>2019-02-28 12:13:13.2180</td>\n",
       "      <td>2019-03-01 05:24:08.1460</td>\n",
       "      <td>86.0</td>\n",
       "      <td>Market St at Dolores St</td>\n",
       "      <td>37.769305</td>\n",
       "      <td>-122.426826</td>\n",
       "      <td>3.0</td>\n",
       "      <td>Powell St BART Station (Market St at 4th St)</td>\n",
       "      <td>37.786375</td>\n",
       "      <td>-122.404904</td>\n",
       "      <td>5905</td>\n",
       "      <td>Customer</td>\n",
       "      <td>1972.0</td>\n",
       "      <td>Male</td>\n",
       "      <td>No</td>\n",
       "    </tr>\n",
       "    <tr>\n",
       "      <th>3</th>\n",
       "      <td>36490</td>\n",
       "      <td>2019-02-28 17:54:26.0100</td>\n",
       "      <td>2019-03-01 04:02:36.8420</td>\n",
       "      <td>375.0</td>\n",
       "      <td>Grove St at Masonic Ave</td>\n",
       "      <td>37.774836</td>\n",
       "      <td>-122.446546</td>\n",
       "      <td>70.0</td>\n",
       "      <td>Central Ave at Fell St</td>\n",
       "      <td>37.773311</td>\n",
       "      <td>-122.444293</td>\n",
       "      <td>6638</td>\n",
       "      <td>Subscriber</td>\n",
       "      <td>1989.0</td>\n",
       "      <td>Other</td>\n",
       "      <td>No</td>\n",
       "    </tr>\n",
       "    <tr>\n",
       "      <th>4</th>\n",
       "      <td>1585</td>\n",
       "      <td>2019-02-28 23:54:18.5490</td>\n",
       "      <td>2019-03-01 00:20:44.0740</td>\n",
       "      <td>7.0</td>\n",
       "      <td>Frank H Ogawa Plaza</td>\n",
       "      <td>37.804562</td>\n",
       "      <td>-122.271738</td>\n",
       "      <td>222.0</td>\n",
       "      <td>10th Ave at E 15th St</td>\n",
       "      <td>37.792714</td>\n",
       "      <td>-122.248780</td>\n",
       "      <td>4898</td>\n",
       "      <td>Subscriber</td>\n",
       "      <td>1974.0</td>\n",
       "      <td>Male</td>\n",
       "      <td>Yes</td>\n",
       "    </tr>\n",
       "  </tbody>\n",
       "</table>\n",
       "</div>"
      ],
      "text/plain": [
       "   duration_sec                start_time                  end_time  \\\n",
       "0         52185  2019-02-28 17:32:10.1450  2019-03-01 08:01:55.9750   \n",
       "1         42521  2019-02-28 18:53:21.7890  2019-03-01 06:42:03.0560   \n",
       "2         61854  2019-02-28 12:13:13.2180  2019-03-01 05:24:08.1460   \n",
       "3         36490  2019-02-28 17:54:26.0100  2019-03-01 04:02:36.8420   \n",
       "4          1585  2019-02-28 23:54:18.5490  2019-03-01 00:20:44.0740   \n",
       "\n",
       "   start_station_id                                start_station_name  \\\n",
       "0              21.0  Montgomery St BART Station (Market St at 2nd St)   \n",
       "1              23.0                     The Embarcadero at Steuart St   \n",
       "2              86.0                           Market St at Dolores St   \n",
       "3             375.0                           Grove St at Masonic Ave   \n",
       "4               7.0                               Frank H Ogawa Plaza   \n",
       "\n",
       "   start_station_latitude  start_station_longitude  end_station_id  \\\n",
       "0               37.789625              -122.400811            13.0   \n",
       "1               37.791464              -122.391034            81.0   \n",
       "2               37.769305              -122.426826             3.0   \n",
       "3               37.774836              -122.446546            70.0   \n",
       "4               37.804562              -122.271738           222.0   \n",
       "\n",
       "                               end_station_name  end_station_latitude  \\\n",
       "0                Commercial St at Montgomery St             37.794231   \n",
       "1                            Berry St at 4th St             37.775880   \n",
       "2  Powell St BART Station (Market St at 4th St)             37.786375   \n",
       "3                        Central Ave at Fell St             37.773311   \n",
       "4                         10th Ave at E 15th St             37.792714   \n",
       "\n",
       "   end_station_longitude  bike_id   user_type  member_birth_year  \\\n",
       "0            -122.402923     4902    Customer             1984.0   \n",
       "1            -122.393170     2535    Customer                NaN   \n",
       "2            -122.404904     5905    Customer             1972.0   \n",
       "3            -122.444293     6638  Subscriber             1989.0   \n",
       "4            -122.248780     4898  Subscriber             1974.0   \n",
       "\n",
       "  member_gender bike_share_for_all_trip  \n",
       "0          Male                      No  \n",
       "1           NaN                      No  \n",
       "2          Male                      No  \n",
       "3         Other                      No  \n",
       "4          Male                     Yes  "
      ]
     },
     "execution_count": 12,
     "metadata": {},
     "output_type": "execute_result"
    }
   ],
   "source": [
    "df_bc.head()"
   ]
  },
  {
   "cell_type": "code",
   "execution_count": 13,
   "metadata": {},
   "outputs": [
    {
     "data": {
      "text/plain": [
       "Male      130651\n",
       "Female     40844\n",
       "Other       3652\n",
       "Name: member_gender, dtype: int64"
      ]
     },
     "execution_count": 13,
     "metadata": {},
     "output_type": "execute_result"
    }
   ],
   "source": [
    "df_bc['member_gender'].value_counts()"
   ]
  },
  {
   "cell_type": "code",
   "execution_count": 14,
   "metadata": {},
   "outputs": [
    {
     "name": "stdout",
     "output_type": "stream",
     "text": [
      "<class 'pandas.core.frame.DataFrame'>\n",
      "RangeIndex: 183412 entries, 0 to 183411\n",
      "Data columns (total 16 columns):\n",
      " #   Column                   Non-Null Count   Dtype  \n",
      "---  ------                   --------------   -----  \n",
      " 0   duration_sec             183412 non-null  int64  \n",
      " 1   start_time               183412 non-null  object \n",
      " 2   end_time                 183412 non-null  object \n",
      " 3   start_station_id         183215 non-null  float64\n",
      " 4   start_station_name       183215 non-null  object \n",
      " 5   start_station_latitude   183412 non-null  float64\n",
      " 6   start_station_longitude  183412 non-null  float64\n",
      " 7   end_station_id           183215 non-null  float64\n",
      " 8   end_station_name         183215 non-null  object \n",
      " 9   end_station_latitude     183412 non-null  float64\n",
      " 10  end_station_longitude    183412 non-null  float64\n",
      " 11  bike_id                  183412 non-null  int64  \n",
      " 12  user_type                183412 non-null  object \n",
      " 13  member_birth_year        175147 non-null  float64\n",
      " 14  member_gender            175147 non-null  object \n",
      " 15  bike_share_for_all_trip  183412 non-null  object \n",
      "dtypes: float64(7), int64(2), object(7)\n",
      "memory usage: 22.4+ MB\n"
     ]
    }
   ],
   "source": [
    "df_bc.info()"
   ]
  },
  {
   "cell_type": "markdown",
   "metadata": {},
   "source": [
    "### Issues\n",
    "1. 197 rows without Start- and Endstation / 6 unknown Start- / Endstations\n",
    "- drop this rows\n",
    "\n",
    "2. wrong dtype --> should be\n",
    "- start_time --> datetime\n",
    "- end_time --> datetime\n",
    "- start_station_id --> int\n",
    "- end_station_id --> int\n",
    "- member_birth_year --> int \n",
    "\n",
    "3. missing values --> action\n",
    "- member_birth_year --> set to 0\n",
    "- member_gender --> set to 'not specified'\n",
    "\n",
    "4. min birthyear = 1878 / 72 members older than 100\n",
    "- set to 0"
   ]
  },
  {
   "cell_type": "code",
   "execution_count": 15,
   "metadata": {},
   "outputs": [],
   "source": [
    "# cleaning the issues named above\n",
    "df_bc = df_bc.dropna(subset=['start_station_id']).reset_index()\n",
    "\n",
    "df_bc['start_time'] = pd.to_datetime(df_bc['start_time'])\n",
    "df_bc['end_time'] = pd.to_datetime(df_bc['end_time'])\n",
    "df_bc['start_station_id'] = df_bc['start_station_id'].astype('int')\n",
    "df_bc['end_station_id'] = df_bc['end_station_id'].astype('int')\n",
    "\n",
    "df_bc['member_gender'] = df_bc['member_gender'].fillna('not specified')\n",
    "df_bc['member_birth_year'] = df_bc['member_birth_year'].fillna(0)\n",
    "\n",
    "df_bc['member_birth_year'] = df_bc['member_birth_year'].astype('int')\n"
   ]
  },
  {
   "cell_type": "code",
   "execution_count": 16,
   "metadata": {},
   "outputs": [
    {
     "data": {
      "text/plain": [
       "Int64Index([  1284,  10819,  16071,  19353,  21400,  21482,  24015,  26103,\n",
       "             27339,  27643,  29682,  32245,  32685,  32769,  32902,  34706,\n",
       "             38879,  41135,  41187,  41260,  43820,  45784,  48736,  58145,\n",
       "             60879,  61529,  62515,  66608,  72614,  72722,  73652,  75580,\n",
       "             78789,  88023,  92481,  93063,  94196,  94486,  97591,  97867,\n",
       "            101112, 102018, 107228, 107488, 108182, 108878, 110334, 110600,\n",
       "            114625, 115499, 118869, 122045, 123088, 128821, 137625, 138118,\n",
       "            140569, 145327, 147336, 149925, 151753, 161316, 161861, 162922,\n",
       "            166988, 170896, 171567, 171806, 173520, 177515, 177692, 182633],\n",
       "           dtype='int64')"
      ]
     },
     "execution_count": 16,
     "metadata": {},
     "output_type": "execute_result"
    }
   ],
   "source": [
    "# member birth years older than 100\n",
    "indexlist_toold = df_bc[df_bc['member_birth_year'].between(1, 1919)].index\n",
    "indexlist_toold"
   ]
  },
  {
   "cell_type": "code",
   "execution_count": 17,
   "metadata": {},
   "outputs": [
    {
     "data": {
      "text/plain": [
       "Int64Index([], dtype='int64')"
      ]
     },
     "execution_count": 17,
     "metadata": {},
     "output_type": "execute_result"
    }
   ],
   "source": [
    "# set false (to old) birth years to 0\n",
    "df_bc.loc[indexlist_toold, 'member_birth_year']=0\n",
    "df_bc[df_bc['member_birth_year'].between(1, 1919)].index"
   ]
  },
  {
   "cell_type": "code",
   "execution_count": 18,
   "metadata": {},
   "outputs": [],
   "source": [
    "# save cleaned datafile to csv file\n",
    "df_bc.to_csv('201902-fordgobike-tripdata_clean1.csv', sep=',', index=False)"
   ]
  },
  {
   "cell_type": "code",
   "execution_count": 19,
   "metadata": {},
   "outputs": [
    {
     "name": "stdout",
     "output_type": "stream",
     "text": [
      "<class 'pandas.core.frame.DataFrame'>\n",
      "RangeIndex: 183215 entries, 0 to 183214\n",
      "Data columns (total 17 columns):\n",
      " #   Column                   Non-Null Count   Dtype         \n",
      "---  ------                   --------------   -----         \n",
      " 0   index                    183215 non-null  int64         \n",
      " 1   duration_sec             183215 non-null  int64         \n",
      " 2   start_time               183215 non-null  datetime64[ns]\n",
      " 3   end_time                 183215 non-null  datetime64[ns]\n",
      " 4   start_station_id         183215 non-null  int32         \n",
      " 5   start_station_name       183215 non-null  object        \n",
      " 6   start_station_latitude   183215 non-null  float64       \n",
      " 7   start_station_longitude  183215 non-null  float64       \n",
      " 8   end_station_id           183215 non-null  int32         \n",
      " 9   end_station_name         183215 non-null  object        \n",
      " 10  end_station_latitude     183215 non-null  float64       \n",
      " 11  end_station_longitude    183215 non-null  float64       \n",
      " 12  bike_id                  183215 non-null  int64         \n",
      " 13  user_type                183215 non-null  object        \n",
      " 14  member_birth_year        183215 non-null  int32         \n",
      " 15  member_gender            183215 non-null  object        \n",
      " 16  bike_share_for_all_trip  183215 non-null  object        \n",
      "dtypes: datetime64[ns](2), float64(4), int32(3), int64(3), object(5)\n",
      "memory usage: 21.7+ MB\n"
     ]
    }
   ],
   "source": [
    "# check the cleaned data\n",
    "df_bc.info()"
   ]
  },
  {
   "cell_type": "code",
   "execution_count": 20,
   "metadata": {},
   "outputs": [
    {
     "data": {
      "text/html": [
       "<div>\n",
       "<style scoped>\n",
       "    .dataframe tbody tr th:only-of-type {\n",
       "        vertical-align: middle;\n",
       "    }\n",
       "\n",
       "    .dataframe tbody tr th {\n",
       "        vertical-align: top;\n",
       "    }\n",
       "\n",
       "    .dataframe thead th {\n",
       "        text-align: right;\n",
       "    }\n",
       "</style>\n",
       "<table border=\"1\" class=\"dataframe\">\n",
       "  <thead>\n",
       "    <tr style=\"text-align: right;\">\n",
       "      <th></th>\n",
       "      <th>index</th>\n",
       "      <th>duration_sec</th>\n",
       "      <th>start_time</th>\n",
       "      <th>end_time</th>\n",
       "      <th>start_station_id</th>\n",
       "      <th>start_station_name</th>\n",
       "      <th>start_station_latitude</th>\n",
       "      <th>start_station_longitude</th>\n",
       "      <th>end_station_id</th>\n",
       "      <th>end_station_name</th>\n",
       "      <th>end_station_latitude</th>\n",
       "      <th>end_station_longitude</th>\n",
       "      <th>bike_id</th>\n",
       "      <th>user_type</th>\n",
       "      <th>member_birth_year</th>\n",
       "      <th>member_gender</th>\n",
       "      <th>bike_share_for_all_trip</th>\n",
       "    </tr>\n",
       "  </thead>\n",
       "  <tbody>\n",
       "    <tr>\n",
       "      <th>0</th>\n",
       "      <td>0</td>\n",
       "      <td>52185</td>\n",
       "      <td>2019-02-28 17:32:10.145</td>\n",
       "      <td>2019-03-01 08:01:55.975</td>\n",
       "      <td>21</td>\n",
       "      <td>Montgomery St BART Station (Market St at 2nd St)</td>\n",
       "      <td>37.789625</td>\n",
       "      <td>-122.400811</td>\n",
       "      <td>13</td>\n",
       "      <td>Commercial St at Montgomery St</td>\n",
       "      <td>37.794231</td>\n",
       "      <td>-122.402923</td>\n",
       "      <td>4902</td>\n",
       "      <td>Customer</td>\n",
       "      <td>1984</td>\n",
       "      <td>Male</td>\n",
       "      <td>No</td>\n",
       "    </tr>\n",
       "    <tr>\n",
       "      <th>1</th>\n",
       "      <td>1</td>\n",
       "      <td>42521</td>\n",
       "      <td>2019-02-28 18:53:21.789</td>\n",
       "      <td>2019-03-01 06:42:03.056</td>\n",
       "      <td>23</td>\n",
       "      <td>The Embarcadero at Steuart St</td>\n",
       "      <td>37.791464</td>\n",
       "      <td>-122.391034</td>\n",
       "      <td>81</td>\n",
       "      <td>Berry St at 4th St</td>\n",
       "      <td>37.775880</td>\n",
       "      <td>-122.393170</td>\n",
       "      <td>2535</td>\n",
       "      <td>Customer</td>\n",
       "      <td>0</td>\n",
       "      <td>not specified</td>\n",
       "      <td>No</td>\n",
       "    </tr>\n",
       "    <tr>\n",
       "      <th>2</th>\n",
       "      <td>2</td>\n",
       "      <td>61854</td>\n",
       "      <td>2019-02-28 12:13:13.218</td>\n",
       "      <td>2019-03-01 05:24:08.146</td>\n",
       "      <td>86</td>\n",
       "      <td>Market St at Dolores St</td>\n",
       "      <td>37.769305</td>\n",
       "      <td>-122.426826</td>\n",
       "      <td>3</td>\n",
       "      <td>Powell St BART Station (Market St at 4th St)</td>\n",
       "      <td>37.786375</td>\n",
       "      <td>-122.404904</td>\n",
       "      <td>5905</td>\n",
       "      <td>Customer</td>\n",
       "      <td>1972</td>\n",
       "      <td>Male</td>\n",
       "      <td>No</td>\n",
       "    </tr>\n",
       "    <tr>\n",
       "      <th>3</th>\n",
       "      <td>3</td>\n",
       "      <td>36490</td>\n",
       "      <td>2019-02-28 17:54:26.010</td>\n",
       "      <td>2019-03-01 04:02:36.842</td>\n",
       "      <td>375</td>\n",
       "      <td>Grove St at Masonic Ave</td>\n",
       "      <td>37.774836</td>\n",
       "      <td>-122.446546</td>\n",
       "      <td>70</td>\n",
       "      <td>Central Ave at Fell St</td>\n",
       "      <td>37.773311</td>\n",
       "      <td>-122.444293</td>\n",
       "      <td>6638</td>\n",
       "      <td>Subscriber</td>\n",
       "      <td>1989</td>\n",
       "      <td>Other</td>\n",
       "      <td>No</td>\n",
       "    </tr>\n",
       "    <tr>\n",
       "      <th>4</th>\n",
       "      <td>4</td>\n",
       "      <td>1585</td>\n",
       "      <td>2019-02-28 23:54:18.549</td>\n",
       "      <td>2019-03-01 00:20:44.074</td>\n",
       "      <td>7</td>\n",
       "      <td>Frank H Ogawa Plaza</td>\n",
       "      <td>37.804562</td>\n",
       "      <td>-122.271738</td>\n",
       "      <td>222</td>\n",
       "      <td>10th Ave at E 15th St</td>\n",
       "      <td>37.792714</td>\n",
       "      <td>-122.248780</td>\n",
       "      <td>4898</td>\n",
       "      <td>Subscriber</td>\n",
       "      <td>1974</td>\n",
       "      <td>Male</td>\n",
       "      <td>Yes</td>\n",
       "    </tr>\n",
       "  </tbody>\n",
       "</table>\n",
       "</div>"
      ],
      "text/plain": [
       "   index  duration_sec              start_time                end_time  \\\n",
       "0      0         52185 2019-02-28 17:32:10.145 2019-03-01 08:01:55.975   \n",
       "1      1         42521 2019-02-28 18:53:21.789 2019-03-01 06:42:03.056   \n",
       "2      2         61854 2019-02-28 12:13:13.218 2019-03-01 05:24:08.146   \n",
       "3      3         36490 2019-02-28 17:54:26.010 2019-03-01 04:02:36.842   \n",
       "4      4          1585 2019-02-28 23:54:18.549 2019-03-01 00:20:44.074   \n",
       "\n",
       "   start_station_id                                start_station_name  \\\n",
       "0                21  Montgomery St BART Station (Market St at 2nd St)   \n",
       "1                23                     The Embarcadero at Steuart St   \n",
       "2                86                           Market St at Dolores St   \n",
       "3               375                           Grove St at Masonic Ave   \n",
       "4                 7                               Frank H Ogawa Plaza   \n",
       "\n",
       "   start_station_latitude  start_station_longitude  end_station_id  \\\n",
       "0               37.789625              -122.400811              13   \n",
       "1               37.791464              -122.391034              81   \n",
       "2               37.769305              -122.426826               3   \n",
       "3               37.774836              -122.446546              70   \n",
       "4               37.804562              -122.271738             222   \n",
       "\n",
       "                               end_station_name  end_station_latitude  \\\n",
       "0                Commercial St at Montgomery St             37.794231   \n",
       "1                            Berry St at 4th St             37.775880   \n",
       "2  Powell St BART Station (Market St at 4th St)             37.786375   \n",
       "3                        Central Ave at Fell St             37.773311   \n",
       "4                         10th Ave at E 15th St             37.792714   \n",
       "\n",
       "   end_station_longitude  bike_id   user_type  member_birth_year  \\\n",
       "0            -122.402923     4902    Customer               1984   \n",
       "1            -122.393170     2535    Customer                  0   \n",
       "2            -122.404904     5905    Customer               1972   \n",
       "3            -122.444293     6638  Subscriber               1989   \n",
       "4            -122.248780     4898  Subscriber               1974   \n",
       "\n",
       "   member_gender bike_share_for_all_trip  \n",
       "0           Male                      No  \n",
       "1  not specified                      No  \n",
       "2           Male                      No  \n",
       "3          Other                      No  \n",
       "4           Male                     Yes  "
      ]
     },
     "execution_count": 20,
     "metadata": {},
     "output_type": "execute_result"
    }
   ],
   "source": [
    "df_bc.head()"
   ]
  },
  {
   "cell_type": "code",
   "execution_count": 21,
   "metadata": {},
   "outputs": [
    {
     "data": {
      "text/plain": [
       "Index(['index', 'duration_sec', 'start_time', 'end_time', 'start_station_id',\n",
       "       'start_station_name', 'start_station_latitude',\n",
       "       'start_station_longitude', 'end_station_id', 'end_station_name',\n",
       "       'end_station_latitude', 'end_station_longitude', 'bike_id', 'user_type',\n",
       "       'member_birth_year', 'member_gender', 'bike_share_for_all_trip'],\n",
       "      dtype='object')"
      ]
     },
     "execution_count": 21,
     "metadata": {},
     "output_type": "execute_result"
    }
   ],
   "source": [
    "df_bc.columns"
   ]
  },
  {
   "cell_type": "markdown",
   "metadata": {},
   "source": [
    "### The structure of the dataset.\n",
    "\n",
    "> There are 183,215 entries in the dataset. Each entry contains an index and the following 16 entries:  \n",
    "duration_sec, start_time, end_time, start_station_id,  \n",
    "start_station_name, start_station_latitude, start_station_longitude, end_station_id,  \n",
    "end_station_name, end_station_latitude, end_station_longitude, bike_id, user_type,  \n",
    "member_birth_year, member_gender, bike_share_for_all_trip\n",
    "\n",
    "\n",
    "> This data types used: 2 x datetime, 4 x float, 6 x int, 5 x object\n",
    "\n",
    "\n",
    "### Main feature(s) of interest in dataset.\n",
    "\n",
    "> I'm interested in the absolute numbers of bike-share data such as frequency and duration. I would also like to recognize connections that may result from membership, age, gender or calendar dates.\n",
    "\n",
    "\n",
    "\n",
    "> I will first look at the distribution of the individual values and then try to identify connections."
   ]
  },
  {
   "cell_type": "markdown",
   "metadata": {},
   "source": [
    "## Univariate Exploration\n",
    "\n",
    "\n"
   ]
  },
  {
   "cell_type": "code",
   "execution_count": 22,
   "metadata": {},
   "outputs": [],
   "source": [
    "# create a column duration_min\n",
    "df_bc['duration_min'] = df_bc['duration_sec'] / 60"
   ]
  },
  {
   "cell_type": "code",
   "execution_count": 23,
   "metadata": {},
   "outputs": [
    {
     "data": {
      "image/png": "[encoded data removed]",
      "text/plain": [
       "<Figure size 432x288 with 1 Axes>"
      ]
     },
     "metadata": {
      "needs_background": "light"
     },
     "output_type": "display_data"
    }
   ],
   "source": [
    "# duration / hist\n",
    "binsize = 10\n",
    "bins = np.arange(0, df_bc['duration_min'].max() + binsize, binsize)\n",
    "plt.hist(data = df_bc, x = 'duration_min', bins = bins);"
   ]
  },
  {
   "cell_type": "code",
   "execution_count": 24,
   "metadata": {
    "scrolled": true
   },
   "outputs": [
    {
     "data": {
      "image/png": "[encoded data removed]",
      "text/plain": [
       "<Figure size 432x288 with 1 Axes>"
      ]
     },
     "metadata": {
      "needs_background": "light"
     },
     "output_type": "display_data"
    }
   ],
   "source": [
    "# duration / # there's a very long tail in the distribution, put it on a log scale\n",
    "binsize = 0.05\n",
    "bins = 10 ** np.arange(0, np.log10(df_bc['duration_min'].max())+binsize, binsize)\n",
    "plt.hist(data = df_bc, x = 'duration_min', bins = bins)\n",
    "plt.xscale('log')\n",
    "x_scale = [1, 2, 3, 5, 10, 20, 30, 60, 120]\n",
    "plt.xticks(x_scale, x_scale)\n",
    "plt.xlabel('log_duration_min')\n",
    "plt.show();"
   ]
  },
  {
   "cell_type": "markdown",
   "metadata": {},
   "source": [
    "- Duration has a very long-tailed distribution, with a lot of durations on the low last end, and few on the high end. When plotted on a log-scale, the duration looks like normal dirstributed, with a peak of around 10 minuts."
   ]
  },
  {
   "cell_type": "code",
   "execution_count": 25,
   "metadata": {},
   "outputs": [
    {
     "data": {
      "image/png": "[encoded data removed]",
      "text/plain": [
       "<Figure size 432x288 with 1 Axes>"
      ]
     },
     "metadata": {
      "needs_background": "light"
     },
     "output_type": "display_data"
    }
   ],
   "source": [
    "# start station - top 20 / bar\n",
    "base_color = sb.color_palette()[0]\n",
    "sb.countplot(data=df_bc, y='start_station_name', color=base_color,\n",
    "            order=df_bc['start_station_name'].value_counts().iloc[0:20].index);"
   ]
  },
  {
   "cell_type": "code",
   "execution_count": 26,
   "metadata": {},
   "outputs": [
    {
     "data": {
      "image/png": "[encoded data removed]",
      "text/plain": [
       "<Figure size 432x288 with 1 Axes>"
      ]
     },
     "metadata": {
      "needs_background": "light"
     },
     "output_type": "display_data"
    }
   ],
   "source": [
    "# end station - top 20 / bar\n",
    "base_color = sb.color_palette()[0]\n",
    "sb.countplot(data=df_bc, y='end_station_name', color=base_color,\n",
    "            order=df_bc['end_station_name'].value_counts().iloc[:20].index);"
   ]
  },
  {
   "cell_type": "markdown",
   "metadata": {},
   "source": [
    "- most common Start Station: Market St at 10th St.\n",
    "- most common End Station: San Francisco Caltrain Station 2 (Townsend St at 4th St)\n",
    "- Start Station 'Bancroft Way at College Ave' is only in Top 20 Start Station not in Top 20 End Station"
   ]
  },
  {
   "cell_type": "code",
   "execution_count": 27,
   "metadata": {},
   "outputs": [
    {
     "data": {
      "text/plain": [
       "Index(['Subscriber', 'Customer'], dtype='object')"
      ]
     },
     "execution_count": 27,
     "metadata": {},
     "output_type": "execute_result"
    }
   ],
   "source": [
    "df_bc['user_type'].value_counts().index"
   ]
  },
  {
   "cell_type": "code",
   "execution_count": 28,
   "metadata": {},
   "outputs": [
    {
     "data": {
      "image/png": "[encoded data removed]",
      "text/plain": [
       "<Figure size 432x288 with 1 Axes>"
      ]
     },
     "metadata": {},
     "output_type": "display_data"
    }
   ],
   "source": [
    "# user type / pie chart\n",
    "\n",
    "data = list(df_bc['user_type'].value_counts())\n",
    "labels = df_bc['user_type'].value_counts().index\n",
    "colors = sb.color_palette()\n",
    "\n",
    "plt.pie(data, labels=labels, colors = colors, autopct='%.0f%%')\n",
    "plt.show()"
   ]
  },
  {
   "cell_type": "markdown",
   "metadata": {},
   "source": [
    "- The largest amount of users are subscriber 89 %, the rest are customer 11 %."
   ]
  },
  {
   "cell_type": "code",
   "execution_count": 29,
   "metadata": {},
   "outputs": [],
   "source": [
    "# birth year /  age / (5 years bins)\n",
    "# create the member age column\n",
    "df_bc['member_age'] = pd.DatetimeIndex(df_bc['start_time']).year - df_bc['member_birth_year']"
   ]
  },
  {
   "cell_type": "code",
   "execution_count": 30,
   "metadata": {},
   "outputs": [
    {
     "name": "stdout",
     "output_type": "stream",
     "text": [
      "average age: 34\n"
     ]
    },
    {
     "data": {
      "image/png": "[encoded data removed]",
      "text/plain": [
       "<Figure size 432x288 with 1 Axes>"
      ]
     },
     "metadata": {
      "needs_background": "light"
     },
     "output_type": "display_data"
    }
   ],
   "source": [
    "binsize = 5\n",
    "bins = np.arange(0, df_bc['member_age'].max() + binsize, binsize)\n",
    "plt.hist(data = df_bc, x = 'member_age', bins = bins)\n",
    "plt.xlim([0, 100])\n",
    "plt.xlabel('age (year)')\n",
    "plt.ylabel('count')\n",
    "ticks = np.arange(10, 95, 5)\n",
    "labels = ticks\n",
    "plt.xticks(ticks, labels);\n",
    "\n",
    "#df = df[df.line_race != 0]\n",
    "df_age = df_bc[df_bc['member_age'] <= 100]\n",
    "df_age['member_age'].describe()\n",
    "ave_age = df_age['member_age'].mean()\n",
    "print('average age:', int(ave_age))"
   ]
  },
  {
   "cell_type": "markdown",
   "metadata": {},
   "source": [
    "- The distribution of customer age is left tailed, the largest customer group is at age between 25 and 35 years."
   ]
  },
  {
   "cell_type": "code",
   "execution_count": 31,
   "metadata": {},
   "outputs": [
    {
     "name": "stderr",
     "output_type": "stream",
     "text": [
      "C:\\Users\\Michael\\AppData\\Local\\Temp/ipykernel_9888/655071040.py:2: SettingWithCopyWarning: \n",
      "A value is trying to be set on a copy of a slice from a DataFrame.\n",
      "Try using .loc[row_indexer,col_indexer] = value instead\n",
      "\n",
      "See the caveats in the documentation: https://pandas.pydata.org/pandas-docs/stable/user_guide/indexing.html#returning-a-view-versus-a-copy\n",
      "  df_age['weekday'] = pd.DatetimeIndex(df_age['start_time']).weekday\n",
      "C:\\Users\\Michael\\AppData\\Local\\Temp/ipykernel_9888/655071040.py:3: SettingWithCopyWarning: \n",
      "A value is trying to be set on a copy of a slice from a DataFrame.\n",
      "Try using .loc[row_indexer,col_indexer] = value instead\n",
      "\n",
      "See the caveats in the documentation: https://pandas.pydata.org/pandas-docs/stable/user_guide/indexing.html#returning-a-view-versus-a-copy\n",
      "  df_age['hour'] = pd.DatetimeIndex(df_age['start_time']).hour\n"
     ]
    }
   ],
   "source": [
    "# save cleaned datafile to csv file\n",
    "df_age['weekday'] = pd.DatetimeIndex(df_age['start_time']).weekday\n",
    "df_age['hour'] = pd.DatetimeIndex(df_age['start_time']).hour\n",
    "df_age.to_csv('201902-fordgobike-tripdata_clean2.csv', sep=',', index=False)"
   ]
  },
  {
   "cell_type": "code",
   "execution_count": 32,
   "metadata": {},
   "outputs": [
    {
     "data": {
      "image/png": "[encoded data removed]",
      "text/plain": [
       "<Figure size 432x288 with 1 Axes>"
      ]
     },
     "metadata": {},
     "output_type": "display_data"
    }
   ],
   "source": [
    "# gender / pie\n",
    "\n",
    "data = list(df_bc['member_gender'].value_counts())\n",
    "labels = df_bc['member_gender'].value_counts().index\n",
    "colors = sb.color_palette()[0:5]\n",
    "\n",
    "plt.pie(data, labels=labels, colors = colors, autopct='%.0f%%')\n",
    "plt.show()"
   ]
  },
  {
   "cell_type": "markdown",
   "metadata": {},
   "source": [
    "- Almost 3/4 % of customers are male, round about 1/5 % are female, 2 % ohter and 5 % are not specified."
   ]
  },
  {
   "cell_type": "code",
   "execution_count": 33,
   "metadata": {},
   "outputs": [
    {
     "name": "stderr",
     "output_type": "stream",
     "text": [
      "C:\\Users\\Michael\\AppData\\Local\\Temp/ipykernel_9888/3330208154.py:1: FutureWarning: Treating datetime data as categorical rather than numeric in `.describe` is deprecated and will be removed in a future version of pandas. Specify `datetime_is_numeric=True` to silence this warning and adopt the future behavior now.\n",
      "  df_bc['start_time'].describe()\n"
     ]
    },
    {
     "data": {
      "text/plain": [
       "count                         183215\n",
       "unique                        183204\n",
       "top       2019-02-25 08:52:07.582000\n",
       "freq                               2\n",
       "first     2019-02-01 00:00:20.636000\n",
       "last      2019-02-28 23:59:18.548000\n",
       "Name: start_time, dtype: object"
      ]
     },
     "execution_count": 33,
     "metadata": {},
     "output_type": "execute_result"
    }
   ],
   "source": [
    "df_bc['start_time'].describe()"
   ]
  },
  {
   "cell_type": "code",
   "execution_count": 33,
   "metadata": {},
   "outputs": [
    {
     "data": {
      "image/png": "[encoded data removed]",
      "text/plain": [
       "<Figure size 432x288 with 1 Axes>"
      ]
     },
     "metadata": {
      "needs_background": "light"
     },
     "output_type": "display_data"
    }
   ],
   "source": [
    "# weekday (monday = 0)\n",
    "# create the weekday column\n",
    "df_bc['weekday'] = pd.DatetimeIndex(df_bc['start_time']).weekday\n",
    "\n",
    "default_color = sb.color_palette()[0]\n",
    "sb.countplot(data = df_bc, x = 'weekday', color=default_color)\n",
    "bins = np.arange(0, 7, 1)\n",
    "xlabel = ['Mon', 'Tue', 'Wed', 'Thu', 'Fri', 'Sat', 'Sun']\n",
    "plt.xticks(bins, xlabel);"
   ]
  },
  {
   "cell_type": "markdown",
   "metadata": {},
   "source": [
    "- at the weekend the number of users is much lower"
   ]
  },
  {
   "cell_type": "code",
   "execution_count": 34,
   "metadata": {},
   "outputs": [
    {
     "data": {
      "image/png": "[encoded data removed]",
      "text/plain": [
       "<Figure size 432x288 with 1 Axes>"
      ]
     },
     "metadata": {
      "needs_background": "light"
     },
     "output_type": "display_data"
    }
   ],
   "source": [
    "# hour\n",
    "# create the day hour column\n",
    "df_bc['hour'] = pd.DatetimeIndex(df_bc['start_time']).hour\n",
    "\n",
    "default_color = sb.color_palette()[0]\n",
    "sb.countplot(data = df_bc, x = 'hour', color=default_color);"
   ]
  },
  {
   "cell_type": "markdown",
   "metadata": {},
   "source": [
    "- The distribution of day hour is bimodal with two peaks at 8 and 17 o'clock."
   ]
  },
  {
   "cell_type": "markdown",
   "metadata": {},
   "source": [
    "### Summary - Univariate Exploration\n",
    "\n",
    "> In order to get a better idea of the times, I converted the time unit from seconds to minutes.\n",
    "Duration has a very long-tailed distribution, with a lot of durations on the low last end, and few on the high end. When plotted on a log-scale, the duration looks like normal dirstributed, with a peak of around 10 minuts.\n",
    "\n",
    "\n",
    "> Top 20 Start- / End-Stations\n",
    "Almost all Top 20 starting Stations are too in Top 20 End Stations. Only exception is here the Start Station 'Bancroft Way at College Ave' not in Top 20 End Station\n",
    "most common Start Station: Market St at 10th St.\n",
    "most common End Station: San Francisco Caltrain Station 2 (Townsend St at 4th St)\n",
    "\n",
    "\n",
    "> The largest amount of users are subscriber 89 %, the rest are customer 11 %.\n",
    "\n",
    "\n",
    "> To calculate the age, I subtracted the year of birth from the year of data collection.\n",
    "The distribution of customer age is left tailed, the largest customer group is at age between 25 and 35 years. The average age is 34 years.\n",
    "\n",
    "> Almost 3/4 % of customers are male, round about 1/5 % are female, 2 % ohter and 5 % are not specified.\n",
    "\n",
    "> At the weekend the number of users is much lower.\n",
    "\n",
    "> The distribution of day hour is bimodal with two peaks at 8 and 17 a clock."
   ]
  },
  {
   "cell_type": "markdown",
   "metadata": {},
   "source": [
    "## Bivariate Exploration\n",
    "\n",
    "> Investigating relationships between pairs of variables in the data."
   ]
  },
  {
   "cell_type": "code",
   "execution_count": 35,
   "metadata": {},
   "outputs": [
    {
     "name": "stdout",
     "output_type": "stream",
     "text": [
      "<class 'pandas.core.frame.DataFrame'>\n",
      "RangeIndex: 183215 entries, 0 to 183214\n",
      "Data columns (total 21 columns):\n",
      " #   Column                   Non-Null Count   Dtype         \n",
      "---  ------                   --------------   -----         \n",
      " 0   index                    183215 non-null  int64         \n",
      " 1   duration_sec             183215 non-null  int64         \n",
      " 2   start_time               183215 non-null  datetime64[ns]\n",
      " 3   end_time                 183215 non-null  datetime64[ns]\n",
      " 4   start_station_id         183215 non-null  int32         \n",
      " 5   start_station_name       183215 non-null  object        \n",
      " 6   start_station_latitude   183215 non-null  float64       \n",
      " 7   start_station_longitude  183215 non-null  float64       \n",
      " 8   end_station_id           183215 non-null  int32         \n",
      " 9   end_station_name         183215 non-null  object        \n",
      " 10  end_station_latitude     183215 non-null  float64       \n",
      " 11  end_station_longitude    183215 non-null  float64       \n",
      " 12  bike_id                  183215 non-null  int64         \n",
      " 13  user_type                183215 non-null  object        \n",
      " 14  member_birth_year        183215 non-null  int32         \n",
      " 15  member_gender            183215 non-null  object        \n",
      " 16  bike_share_for_all_trip  183215 non-null  object        \n",
      " 17  duration_min             183215 non-null  float64       \n",
      " 18  member_age               183215 non-null  int64         \n",
      " 19  weekday                  183215 non-null  int64         \n",
      " 20  hour                     183215 non-null  int64         \n",
      "dtypes: datetime64[ns](2), float64(5), int32(3), int64(6), object(5)\n",
      "memory usage: 27.3+ MB\n"
     ]
    }
   ],
   "source": [
    "df_bc.info()"
   ]
  },
  {
   "cell_type": "markdown",
   "metadata": {},
   "source": [
    "#### Start by examining whether there are correlations between data."
   ]
  },
  {
   "cell_type": "code",
   "execution_count": 36,
   "metadata": {},
   "outputs": [
    {
     "data": {
      "image/png": "[encoded data removed]",
      "text/plain": [
       "<Figure size 576x432 with 2 Axes>"
      ]
     },
     "metadata": {
      "needs_background": "light"
     },
     "output_type": "display_data"
    }
   ],
   "source": [
    "# corr between numeric data of interest\n",
    "\n",
    "num_data = ['member_age', 'weekday', 'hour', 'duration_min', 'bike_id', 'start_station_id', 'end_station_id']\n",
    "\n",
    "plt.figure(figsize=[8,6])\n",
    "sb.heatmap(df_bc[num_data].corr(), annot=True, fmt='.2f', cmap='vlag_r', center=0.1)\n",
    "plt.show()"
   ]
  },
  {
   "cell_type": "markdown",
   "metadata": {},
   "source": [
    "- Ther is a linear correlation of 0.34 between start station and end station.\n",
    "- The realationships betwee (member_age, weekday, hour, duration_min, bike_id, start_station_id, end_station_id) are close to zero."
   ]
  },
  {
   "cell_type": "markdown",
   "metadata": {},
   "source": [
    "#### Another look at the relationship duration and age."
   ]
  },
  {
   "cell_type": "code",
   "execution_count": 37,
   "metadata": {},
   "outputs": [
    {
     "data": {
      "image/png": "[encoded data removed]",
      "text/plain": [
       "<Figure size 576x432 with 1 Axes>"
      ]
     },
     "metadata": {
      "needs_background": "light"
     },
     "output_type": "display_data"
    }
   ],
   "source": [
    "# use a sample of data to provide from overplot\n",
    "\n",
    "df_bc_sample = df_bc.sample(500, replace=False)\n",
    "\n",
    "plt.figure(figsize=[8,6])\n",
    "plt.scatter(data=df_bc_sample, x='member_age', y='duration_min')\n",
    "plt.xlim([0, 100])\n",
    "plt.ylim([0, 100])\n",
    "plt.show()"
   ]
  },
  {
   "cell_type": "markdown",
   "metadata": {},
   "source": [
    "- A concentration of data is visible in the range of ages between 25 and 35 years and duration of 10 minutes.  This is consistant with our previous knowledge at average age of 34 years and most durations of 10 min.  This evaluation confirms that are no releationship between age and duration."
   ]
  },
  {
   "cell_type": "markdown",
   "metadata": {},
   "source": [
    "#### duration vs. categorical (weekday, hour, gender, user type)"
   ]
  },
  {
   "cell_type": "code",
   "execution_count": 38,
   "metadata": {},
   "outputs": [
    {
     "data": {
      "text/plain": [
       "<Figure size 1080x1080 with 0 Axes>"
      ]
     },
     "metadata": {},
     "output_type": "display_data"
    },
    {
     "data": {
      "image/png": "[encoded data removed]",
      "text/plain": [
       "<Figure size 1296x216 with 4 Axes>"
      ]
     },
     "metadata": {
      "needs_background": "light"
     },
     "output_type": "display_data"
    }
   ],
   "source": [
    "# plot numeric 'duration' against categorical 'weekday', 'hour', 'gender'\n",
    "\n",
    "# create a log10 duration_min column\n",
    "df_bc['duration_min_log'] = np.log10(df_bc['duration_min'])\n",
    "\n",
    "categoric_vars = ['weekday', 'hour', 'member_gender', 'user_type']\n",
    "\n",
    "def boxgrid(x, y, **kwargs):\n",
    "    \"\"\" Quick hack for creating box plots with seaborn's PairGrid. \"\"\"\n",
    "    default_color = sb.color_palette()[0]\n",
    "    sb.boxplot(x=x, y=y, color=default_color, showfliers=False)  # showfliers False removes extreme values\n",
    "\n",
    "plt.figure(figsize = [15, 15])\n",
    "g = sb.PairGrid(data = df_bc, y_vars = ['duration_min_log'], x_vars = categoric_vars,\n",
    "                height = 3, aspect = 1.5)\n",
    "g.map(boxgrid)\n",
    "plt.show();"
   ]
  },
  {
   "cell_type": "markdown",
   "metadata": {},
   "source": [
    "- At weekend day the trip durations are a little longer than at Monday till Friday.\n",
    "- At the times of day with the most frequent use (8 a.m. and 5 p.m.), the travel times are least spread.\n",
    "- Customer drive longer than subscriber."
   ]
  },
  {
   "cell_type": "markdown",
   "metadata": {},
   "source": [
    "#### age vs. categorical (weekday, hour, gender, user type)"
   ]
  },
  {
   "cell_type": "code",
   "execution_count": 39,
   "metadata": {},
   "outputs": [
    {
     "name": "stderr",
     "output_type": "stream",
     "text": [
      "C:\\Users\\Michael\\AppData\\Local\\Temp/ipykernel_23652/3977464602.py:4: SettingWithCopyWarning: \n",
      "A value is trying to be set on a copy of a slice from a DataFrame.\n",
      "Try using .loc[row_indexer,col_indexer] = value instead\n",
      "\n",
      "See the caveats in the documentation: https://pandas.pydata.org/pandas-docs/stable/user_guide/indexing.html#returning-a-view-versus-a-copy\n",
      "  df_age['weekday'] = pd.DatetimeIndex(df_age['start_time']).weekday\n",
      "C:\\Users\\Michael\\AppData\\Local\\Temp/ipykernel_23652/3977464602.py:5: SettingWithCopyWarning: \n",
      "A value is trying to be set on a copy of a slice from a DataFrame.\n",
      "Try using .loc[row_indexer,col_indexer] = value instead\n",
      "\n",
      "See the caveats in the documentation: https://pandas.pydata.org/pandas-docs/stable/user_guide/indexing.html#returning-a-view-versus-a-copy\n",
      "  df_age['hour'] = pd.DatetimeIndex(df_age['start_time']).hour\n"
     ]
    },
    {
     "data": {
      "text/plain": [
       "<Figure size 1080x1080 with 0 Axes>"
      ]
     },
     "metadata": {},
     "output_type": "display_data"
    },
    {
     "data": {
      "image/png": "[encoded data removed]",
      "text/plain": [
       "<Figure size 1296x216 with 4 Axes>"
      ]
     },
     "metadata": {
      "needs_background": "light"
     },
     "output_type": "display_data"
    }
   ],
   "source": [
    "# plot numeric 'duration' against categorical 'weekday'\n",
    "\n",
    "# create the weekday and hour column\n",
    "df_age['weekday'] = pd.DatetimeIndex(df_age['start_time']).weekday\n",
    "df_age['hour'] = pd.DatetimeIndex(df_age['start_time']).hour\n",
    "\n",
    "def boxgrid(x, y, **kwargs):\n",
    "    \"\"\" Quick hack for creating box plots with seaborn's PairGrid. \"\"\"\n",
    "    default_color = sb.color_palette()[0]\n",
    "    sb.boxplot(x=x, y=y, color=default_color, showfliers=False)  # showfliers False removes extreme values\n",
    "\n",
    "plt.figure(figsize = [15, 15])\n",
    "g = sb.PairGrid(data = df_age, y_vars = ['member_age'], x_vars = categoric_vars,\n",
    "                height = 3, aspect = 1.5)\n",
    "g.map(boxgrid)\n",
    "plt.show();"
   ]
  },
  {
   "cell_type": "markdown",
   "metadata": {},
   "source": [
    "- At weekend days the member age is a little younger.\n",
    "- When comparing age to hour, one value in particular stands out, 4 a clock. Here the users are older than average and the spread is greatest."
   ]
  },
  {
   "cell_type": "markdown",
   "metadata": {},
   "source": [
    "### Summary - Univariate Exploration\n",
    "\n",
    "> **correlations between numeric data of interest**\n",
    "Ther is a linear correlation of 0.34 between start station and end station.\n",
    "The realationships betwee (member_age, weekday, hour, duration_min, bike_id, start_station_id, end_station_id) are close to zero.\n",
    "\n",
    "> **duration vs. age**\n",
    "A concentration of data is visible in the range of ages between 25 and 35 years and duration of 10 minutes. This is consistant with our previous knowledge at average age of 34 years and most durations of 10 min. This evaluation confirms that are no releationship between age and duration.\n",
    "\n",
    "> **duration vs. categorical (weekday, hour, gender, user type)**\n",
    ">- At weekend day the trip durations are a little longer than at Monday till Friday.\n",
    ">- At the times of day with the most frequent use (8 a.m. and 5 p.m.), the travel times are least spread.\n",
    ">- Customer drive longer than subscriber.\n",
    "\n",
    "> **age vs. categorical (weekday, hour, gender, user type)**\n",
    ">- At weekend days the member age is a little younger.\n",
    ">- When comparing age to hour, one value in particular stands out, 4 a clock. Here the users are older than average and the spread is greatest.\n",
    ">- Male user are slightly older on average than Female user.\n",
    ">- There are few more older subscribers than there are customers.\n"
   ]
  },
  {
   "cell_type": "markdown",
   "metadata": {},
   "source": [
    "## Multivariate Exploration\n",
    "\n",
    "> Creating plots of three or more variables."
   ]
  },
  {
   "cell_type": "code",
   "execution_count": 40,
   "metadata": {},
   "outputs": [
    {
     "data": {
      "text/plain": [
       "<matplotlib.legend.Legend at 0x1dc5bf32f70>"
      ]
     },
     "execution_count": 40,
     "metadata": {},
     "output_type": "execute_result"
    },
    {
     "data": {
      "image/png": "[encoded data removed]",
      "text/plain": [
       "<Figure size 720x504 with 2 Axes>"
      ]
     },
     "metadata": {
      "needs_background": "light"
     },
     "output_type": "display_data"
    }
   ],
   "source": [
    "# duration weekday (user_type & gender)\n",
    "\n",
    "fig, ax = plt.subplots(nrows=2, figsize=[10, 7])\n",
    "\n",
    "palette = sb.color_palette()\n",
    "\n",
    "sb.barplot(data=df_bc, x='weekday', y='duration_min', hue='user_type', palette=palette, ax=ax[0])\n",
    "ax[0].legend(title='user type', loc=2, bbox_to_anchor=(1,0.3))\n",
    "\n",
    "sb.barplot(data=df_bc, x='weekday', y='duration_min', hue='member_gender', palette=palette, ax=ax[1])\n",
    "ax[1].legend(title='member_gender', loc=2, bbox_to_anchor=(1,0.5))"
   ]
  },
  {
   "cell_type": "markdown",
   "metadata": {},
   "source": [
    "- Subscriber are all weekdays approximately same time on the way. Customer travel longer at the weekend.\n",
    "- All gender travel longer at the weekend. Female travel all days a bit longer than male."
   ]
  },
  {
   "cell_type": "code",
   "execution_count": 41,
   "metadata": {},
   "outputs": [
    {
     "data": {
      "text/plain": [
       "<matplotlib.legend.Legend at 0x1dc5b9b1b20>"
      ]
     },
     "execution_count": 41,
     "metadata": {},
     "output_type": "execute_result"
    },
    {
     "data": {
      "image/png": "[encoded data removed]",
      "text/plain": [
       "<Figure size 720x504 with 2 Axes>"
      ]
     },
     "metadata": {
      "needs_background": "light"
     },
     "output_type": "display_data"
    }
   ],
   "source": [
    "# age weekday (user_type & gender)\n",
    "\n",
    "fig, ax = plt.subplots(nrows=2, figsize=[10, 7])\n",
    "\n",
    "palette = sb.color_palette()\n",
    "\n",
    "sb.barplot(data=df_age, x='weekday', y='member_age', hue='user_type', palette=palette, ax=ax[0])\n",
    "ax[0].legend(title='user type', loc=2, bbox_to_anchor=(1,0.3))\n",
    "\n",
    "sb.barplot(data=df_age, x='weekday', y='member_age', hue='member_gender', palette=palette, ax=ax[1])\n",
    "ax[1].legend(title='member_gender', loc=2, bbox_to_anchor=(1,0.4))"
   ]
  },
  {
   "cell_type": "markdown",
   "metadata": {},
   "source": [
    "- The average age of users is slightly lower at weekends.\n",
    "- The average age of female users is slightly lower than that of men on all days."
   ]
  },
  {
   "cell_type": "code",
   "execution_count": 42,
   "metadata": {},
   "outputs": [
    {
     "name": "stderr",
     "output_type": "stream",
     "text": [
      "C:\\Users\\Michael\\AppData\\Local\\Temp/ipykernel_23652/2215963598.py:5: SettingWithCopyWarning: \n",
      "A value is trying to be set on a copy of a slice from a DataFrame.\n",
      "Try using .loc[row_indexer,col_indexer] = value instead\n",
      "\n",
      "See the caveats in the documentation: https://pandas.pydata.org/pandas-docs/stable/user_guide/indexing.html#returning-a-view-versus-a-copy\n",
      "  df_age['duration_min_log'] = np.log10(df_age['duration_min'])\n"
     ]
    },
    {
     "data": {
      "image/png": "[encoded data removed]",
      "text/plain": [
       "<Figure size 900x900 with 24 Axes>"
      ]
     },
     "metadata": {
      "needs_background": "light"
     },
     "output_type": "display_data"
    }
   ],
   "source": [
    "# further investigation if there connections why 4 a glock there are manny older people on the way\n",
    "# hour 4 / member age\n",
    "\n",
    "# create a log10 duration_min column\n",
    "df_age['duration_min_log'] = np.log10(df_age['duration_min'])\n",
    "\n",
    "\n",
    "def hist2dgrid(x, y, **kwargs):\n",
    "    palette=kwargs.pop('color')\n",
    "    bins_x = np.arange(18, df_age['member_age'].max()+2, 2)\n",
    "    bins_y = np.arange(0, df_age['duration_min_log'].max(), 0.1)\n",
    "    plt.hist2d(x, y, bins=[bins_x,bins_y], cmap=palette, cmin=0.5)\n",
    "    plt.yticks(np.log10([1,2,5,10,20,50,100]),[1,2,5,10,20,50,100])\n",
    "\n",
    "\n",
    "g = sb.FacetGrid(data=df_age, col='hour', col_wrap=5, height=2.5)\n",
    "g.map(hist2dgrid, 'member_age', 'duration_min_log', color='inferno_r')\n",
    "g.set_xlabels('age (years)')\n",
    "g.set_ylabels('duration (min)')\n",
    "plt.show()\n"
   ]
  },
  {
   "cell_type": "markdown",
   "metadata": {},
   "source": [
    "- Between 3 and 5 AM the points are wide distributed. At 4 AM are two little spots by people at age between 60 (10 minutes) and 70 (5 minutes). The remaining times reflect the average values in age and duration."
   ]
  },
  {
   "cell_type": "markdown",
   "metadata": {},
   "source": [
    "### Summary - Multivariate Exploration\n",
    "\n",
    "> **duration at weekday vs. user_type & gender**\n",
    ">- Subscriber are all weekdays approximately same time on the way. Customer travel longer at the weekend.\n",
    ">- All gender travel longer at the weekend. Female travel all days a bit longer than male.\n",
    "\n",
    "> **age at weekday vs. user_type & gender**\n",
    ">- The average age of users is slightly lower at weekends.\n",
    ">- The average age of female users is slightly lower than that of men on all days.\n",
    "\n",
    "> **Facette Grid - hour vs. member age**\n",
    ">- Between 3 and 5 AM the points are wide distributed. At 4 AM are two little spots by people at age between 60 (10 minutes) and 70 (5 minutes). The remaining times reflect the average values in age and duration."
   ]
  }
 ],
 "metadata": {
  "kernelspec": {
   "display_name": "Python 3 (ipykernel)",
   "language": "python",
   "name": "python3"
  },
  "language_info": {
   "codemirror_mode": {
    "name": "ipython",
    "version": 3
   },
   "file_extension": ".py",
   "mimetype": "text/x-python",
   "name": "python",
   "nbconvert_exporter": "python",
   "pygments_lexer": "ipython3",
   "version": "3.9.7"
  }
 },
 "nbformat": 4,
 "nbformat_minor": 2
}
