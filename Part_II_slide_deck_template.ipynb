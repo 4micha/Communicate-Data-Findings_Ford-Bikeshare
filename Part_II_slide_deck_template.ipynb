{
 "cells": [
  {
   "cell_type": "markdown",
   "metadata": {
    "slideshow": {
     "slide_type": "slide"
    }
   },
   "source": [
    "# Ford GoBike / bike-sharing system - San Francisco Bay area\n",
    "## by Michael Hasterok"
   ]
  },
  {
   "cell_type": "markdown",
   "metadata": {
    "slideshow": {
     "slide_type": "slide"
    }
   },
   "source": [
    "## Investigation Overview\n",
    "\n",
    "\n",
    "The Ford GoBike data from the San Francisco Bay area bike-sharing system shows us log data of usage processes. From this we can learn something about usage times, user types, frequencies and the resulting relationships.\n",
    "Above all, however, two main interests should be represented.\n",
    "\n",
    "> **Who are the users and what differences do they have?**\n",
    "\n",
    "\n",
    "> **What does the duration and frequency of the bike rental tell us?**\n",
    "\n"
   ]
  },
  {
   "cell_type": "markdown",
   "metadata": {
    "slideshow": {
     "slide_type": "slide"
    }
   },
   "source": [
    "## Dataset Overview\n",
    "\n",
    "The origiinal file '201902-fordgobike-tripdata.csv' has 183412 entries/rows with 16 columns. The data are from the period February 2019.\n",
    "\n",
    "\n",
    "The entries show information about the duration:\n",
    "- duration_sec, start_time, end_time\n",
    "\n",
    "the bike-sharing stations:\n",
    "- start_station_id, start_station_name, start_station_latitude, start_station_longitude, end_station_id, end_station_name, end_station_latitude, end_station_longitude\n",
    "\n",
    "the bike:\n",
    "- bike_id\n",
    "\n",
    "and the user:\n",
    "- user_type, member_birth_year, member_gender, bike_share_for_all_trip"
   ]
  },
  {
   "cell_type": "markdown",
   "metadata": {
    "slideshow": {
     "slide_type": "slide"
    }
   },
   "source": [
    "> **Who are the users and what differences do they have?**\n",
    ">- Most of the users are subscribers (91 %).\n",
    ">- There are 75 % Male users and 23 % are Female users.\n",
    ">- The average age is 34 years.\n",
    "\n",
    "> **What does the duration and frequency of the bike rental tell us?**\n",
    ">- The average duration of use is 10 minutes.\n",
    ">- At the weekend the number of users is much lower than between Monday and Friday.\n",
    ">- The most common usage is at 8 and at 17 o'clock.\n",
    ">- The travel time of the subscriber is always shorter than the travel time of the customer.\n",
    ">- On average, female travel longer than male."
   ]
  },
  {
   "cell_type": "code",
   "execution_count": 1,
   "metadata": {
    "slideshow": {
     "slide_type": "skip"
    }
   },
   "outputs": [],
   "source": [
    "# import all packages and set plots to be embedded inline\n",
    "import numpy as np\n",
    "import pandas as pd\n",
    "import matplotlib.pyplot as plt\n",
    "import seaborn as sb\n",
    "\n",
    "%matplotlib inline\n",
    "\n",
    "# suppress warnings from final output\n",
    "import warnings\n",
    "warnings.simplefilter(\"ignore\")"
   ]
  },
  {
   "cell_type": "code",
   "execution_count": 2,
   "metadata": {
    "slideshow": {
     "slide_type": "skip"
    }
   },
   "outputs": [
    {
     "data": {
      "text/html": [
       "<div>\n",
       "<style scoped>\n",
       "    .dataframe tbody tr th:only-of-type {\n",
       "        vertical-align: middle;\n",
       "    }\n",
       "\n",
       "    .dataframe tbody tr th {\n",
       "        vertical-align: top;\n",
       "    }\n",
       "\n",
       "    .dataframe thead th {\n",
       "        text-align: right;\n",
       "    }\n",
       "</style>\n",
       "<table border=\"1\" class=\"dataframe\">\n",
       "  <thead>\n",
       "    <tr style=\"text-align: right;\">\n",
       "      <th></th>\n",
       "      <th>index</th>\n",
       "      <th>duration_sec</th>\n",
       "      <th>start_time</th>\n",
       "      <th>end_time</th>\n",
       "      <th>start_station_id</th>\n",
       "      <th>start_station_name</th>\n",
       "      <th>start_station_latitude</th>\n",
       "      <th>start_station_longitude</th>\n",
       "      <th>end_station_id</th>\n",
       "      <th>end_station_name</th>\n",
       "      <th>...</th>\n",
       "      <th>end_station_longitude</th>\n",
       "      <th>bike_id</th>\n",
       "      <th>user_type</th>\n",
       "      <th>member_birth_year</th>\n",
       "      <th>member_gender</th>\n",
       "      <th>bike_share_for_all_trip</th>\n",
       "      <th>duration_min</th>\n",
       "      <th>member_age</th>\n",
       "      <th>weekday</th>\n",
       "      <th>hour</th>\n",
       "    </tr>\n",
       "  </thead>\n",
       "  <tbody>\n",
       "    <tr>\n",
       "      <th>0</th>\n",
       "      <td>0</td>\n",
       "      <td>52185</td>\n",
       "      <td>2019-02-28 17:32:10.145</td>\n",
       "      <td>2019-03-01 08:01:55.975</td>\n",
       "      <td>21</td>\n",
       "      <td>Montgomery St BART Station (Market St at 2nd St)</td>\n",
       "      <td>37.789625</td>\n",
       "      <td>-122.400811</td>\n",
       "      <td>13</td>\n",
       "      <td>Commercial St at Montgomery St</td>\n",
       "      <td>...</td>\n",
       "      <td>-122.402923</td>\n",
       "      <td>4902</td>\n",
       "      <td>Customer</td>\n",
       "      <td>1984</td>\n",
       "      <td>Male</td>\n",
       "      <td>No</td>\n",
       "      <td>869.75</td>\n",
       "      <td>35</td>\n",
       "      <td>3</td>\n",
       "      <td>17</td>\n",
       "    </tr>\n",
       "    <tr>\n",
       "      <th>1</th>\n",
       "      <td>2</td>\n",
       "      <td>61854</td>\n",
       "      <td>2019-02-28 12:13:13.218</td>\n",
       "      <td>2019-03-01 05:24:08.146</td>\n",
       "      <td>86</td>\n",
       "      <td>Market St at Dolores St</td>\n",
       "      <td>37.769305</td>\n",
       "      <td>-122.426826</td>\n",
       "      <td>3</td>\n",
       "      <td>Powell St BART Station (Market St at 4th St)</td>\n",
       "      <td>...</td>\n",
       "      <td>-122.404904</td>\n",
       "      <td>5905</td>\n",
       "      <td>Customer</td>\n",
       "      <td>1972</td>\n",
       "      <td>Male</td>\n",
       "      <td>No</td>\n",
       "      <td>1030.90</td>\n",
       "      <td>47</td>\n",
       "      <td>3</td>\n",
       "      <td>12</td>\n",
       "    </tr>\n",
       "  </tbody>\n",
       "</table>\n",
       "<p>2 rows × 21 columns</p>\n",
       "</div>"
      ],
      "text/plain": [
       "   index  duration_sec               start_time                 end_time  \\\n",
       "0      0         52185  2019-02-28 17:32:10.145  2019-03-01 08:01:55.975   \n",
       "1      2         61854  2019-02-28 12:13:13.218  2019-03-01 05:24:08.146   \n",
       "\n",
       "   start_station_id                                start_station_name  \\\n",
       "0                21  Montgomery St BART Station (Market St at 2nd St)   \n",
       "1                86                           Market St at Dolores St   \n",
       "\n",
       "   start_station_latitude  start_station_longitude  end_station_id  \\\n",
       "0               37.789625              -122.400811              13   \n",
       "1               37.769305              -122.426826               3   \n",
       "\n",
       "                               end_station_name  ...  end_station_longitude  \\\n",
       "0                Commercial St at Montgomery St  ...            -122.402923   \n",
       "1  Powell St BART Station (Market St at 4th St)  ...            -122.404904   \n",
       "\n",
       "   bike_id  user_type member_birth_year  member_gender  \\\n",
       "0     4902   Customer              1984           Male   \n",
       "1     5905   Customer              1972           Male   \n",
       "\n",
       "  bike_share_for_all_trip duration_min  member_age  weekday  hour  \n",
       "0                      No       869.75          35        3    17  \n",
       "1                      No      1030.90          47        3    12  \n",
       "\n",
       "[2 rows x 21 columns]"
      ]
     },
     "execution_count": 2,
     "metadata": {},
     "output_type": "execute_result"
    }
   ],
   "source": [
    "# load in the dataset into a pandas dataframe\n",
    "df_bc = pd.read_csv('201902-fordgobike-tripdata_clean2.csv')\n",
    "df_bc.head(2)"
   ]
  },
  {
   "cell_type": "markdown",
   "metadata": {
    "slideshow": {
     "slide_type": "notes"
    }
   },
   "source": [
    "> Note that the above cells have been set as \"Skip\"-type slides. That means\n",
    "that when the notebook is rendered as http slides, those cells won't show up."
   ]
  },
  {
   "cell_type": "markdown",
   "metadata": {
    "slideshow": {
     "slide_type": "slide"
    }
   },
   "source": [
    "## Who are the users and what differences do they have?\n",
    "\n",
    "\n",
    "\n",
    "> **Subscriber vs. Customer**\n",
    "\n",
    "> **Gender distribution.**\n",
    "\n",
    "> **Age of user.**\n",
    "\n"
   ]
  },
  {
   "cell_type": "code",
   "execution_count": 3,
   "metadata": {
    "slideshow": {
     "slide_type": "subslide"
    }
   },
   "outputs": [
    {
     "data": {
      "image/png": "[encoded data removed]",
      "text/plain": [
       "<Figure size 432x288 with 1 Axes>"
      ]
     },
     "metadata": {},
     "output_type": "display_data"
    }
   ],
   "source": [
    "# user type / pie chart\n",
    "data = list(df_bc['user_type'].value_counts())\n",
    "labels = df_bc['user_type'].value_counts().index\n",
    "colors = sb.color_palette('pastel')[2:5]\n",
    "\n",
    "plt.pie(data, labels=labels, colors = colors, autopct='%.0f%%')\n",
    "plt.title('The user type distribution.')\n",
    "plt.show()"
   ]
  },
  {
   "cell_type": "code",
   "execution_count": 4,
   "metadata": {
    "slideshow": {
     "slide_type": "subslide"
    }
   },
   "outputs": [
    {
     "data": {
      "image/png": "[encoded data removed]",
      "text/plain": [
       "<Figure size 432x288 with 1 Axes>"
      ]
     },
     "metadata": {},
     "output_type": "display_data"
    }
   ],
   "source": [
    "# gender / pie\n",
    "data = list(df_bc['member_gender'].value_counts())\n",
    "labels = df_bc['member_gender'].value_counts().index\n",
    "colors = sb.color_palette('pastel')[0:5]\n",
    "\n",
    "plt.pie(data, labels=labels, colors = colors, autopct='%.0f%%')\n",
    "plt.title('The gender distribution.')\n",
    "plt.show()"
   ]
  },
  {
   "cell_type": "code",
   "execution_count": 5,
   "metadata": {
    "slideshow": {
     "slide_type": "subslide"
    }
   },
   "outputs": [
    {
     "name": "stdout",
     "output_type": "stream",
     "text": [
      "Number of users by age. The average age is 34 years.\n"
     ]
    },
    {
     "data": {
      "image/png": "[encoded data removed]",
      "text/plain": [
       "<Figure size 432x288 with 1 Axes>"
      ]
     },
     "metadata": {
      "needs_background": "light"
     },
     "output_type": "display_data"
    }
   ],
   "source": [
    "binsize = 2\n",
    "bins = np.arange(0, df_bc['member_age'].max() + binsize, binsize)\n",
    "plt.hist(data = df_bc, x = 'member_age', bins = bins, color='slategray')\n",
    "plt.xlim([15, 90])\n",
    "plt.xlabel('age in years')\n",
    "plt.ylabel('count')\n",
    "ticks = np.arange(15, 95, 5)\n",
    "labels = ticks\n",
    "plt.xticks(ticks, labels);\n",
    "\n",
    "\n",
    "ave_age = df_bc['member_age'].mean()\n",
    "print('Number of users by age.' ,'The average age is', int(ave_age), 'years.')"
   ]
  },
  {
   "cell_type": "markdown",
   "metadata": {
    "collapsed": true,
    "slideshow": {
     "slide_type": "slide"
    }
   },
   "source": [
    "## What does the duration and frequency of the bike rental tell us?\n",
    "\n",
    "> - Duration of the trips.\n",
    "> - User per weekday and hour.\n",
    "> - Duration per weekday for user types and member gender."
   ]
  },
  {
   "cell_type": "code",
   "execution_count": 6,
   "metadata": {
    "slideshow": {
     "slide_type": "subslide"
    }
   },
   "outputs": [
    {
     "data": {
      "image/png": "[encoded data removed]",
      "text/plain": [
       "<Figure size 432x288 with 1 Axes>"
      ]
     },
     "metadata": {
      "needs_background": "light"
     },
     "output_type": "display_data"
    }
   ],
   "source": [
    "# duration / # there's a very long tail in the distribution, put it on a log scale\n",
    "binsize = 0.05\n",
    "bins = 10 ** np.arange(0, np.log10(df_bc['duration_min'].max())+binsize, binsize)\n",
    "plt.hist(data = df_bc, x = 'duration_min', bins = bins, color='slategray')\n",
    "plt.xscale('log')\n",
    "x_scale = [1, 2, 3, 5, 10, 20, 30, 60, 120]\n",
    "plt.xticks(x_scale, x_scale)\n",
    "plt.xlim([0,150])\n",
    "plt.title('Distribution of duration.')\n",
    "plt.xlabel('duration in min - values log10 scaliert')\n",
    "plt.ylabel('count')\n",
    "plt.show();"
   ]
  },
  {
   "cell_type": "code",
   "execution_count": 7,
   "metadata": {
    "slideshow": {
     "slide_type": "subslide"
    }
   },
   "outputs": [
    {
     "data": {
      "image/png": "[encoded data removed]",
      "text/plain": [
       "<Figure size 1440x360 with 2 Axes>"
      ]
     },
     "metadata": {
      "needs_background": "light"
     },
     "output_type": "display_data"
    }
   ],
   "source": [
    "plt.figure(figsize = [20, 5])\n",
    "\n",
    "# weekday\n",
    "plt.subplot(1, 2, 1) \n",
    "default_color = sb.color_palette('pastel')[5]\n",
    "sb.countplot(data = df_bc, x = 'weekday', color=default_color)\n",
    "plt.title('User per weekday.')\n",
    "bins = np.arange(0, 7, 1)\n",
    "xlabel = ['Mon', 'Tue', 'Wed', 'Thu', 'Fri', 'Sat', 'Sun']\n",
    "plt.xticks(bins, xlabel);\n",
    "\n",
    "# hour\n",
    "plt.subplot(1, 2, 2)\n",
    "default_color = sb.color_palette('pastel')[5]\n",
    "sb.countplot(data = df_bc, x = 'hour', color=default_color)\n",
    "plt.title('User per hour.');"
   ]
  },
  {
   "cell_type": "code",
   "execution_count": 8,
   "metadata": {
    "slideshow": {
     "slide_type": "subslide"
    }
   },
   "outputs": [
    {
     "data": {
      "image/png": "[encoded data removed]",
      "text/plain": [
       "<Figure size 720x504 with 2 Axes>"
      ]
     },
     "metadata": {
      "needs_background": "light"
     },
     "output_type": "display_data"
    }
   ],
   "source": [
    "# duration weekday (user_type & gender)\n",
    "\n",
    "fig, ax = plt.subplots(nrows=2, figsize=[10, 7])\n",
    "\n",
    "palette = sb.color_palette('pastel')\n",
    "\n",
    "fig = sb.barplot(data=df_bc, x='weekday', y='duration_min', hue='user_type', palette=palette, ci=None, ax=ax[0])\n",
    "ax[0].legend(title='user type', loc=2, bbox_to_anchor=(1,0.3))\n",
    "ax[0].set_xticklabels(['Mon', 'Tue', 'Wed', 'Thu', 'Fri', 'Sat', 'Sun'])\n",
    "ax[0].set(ylabel='minuts')\n",
    "ax[0].set(title='duration / weekday per (user_type & gender)')\n",
    "ax[0].set(xlabel=None);\n",
    "\n",
    "fig = sb.barplot(data=df_bc, x='weekday', y='duration_min', hue='member_gender', palette=palette, ci=None, ax=ax[1])\n",
    "ax[1].legend(title='member gender', loc=2, bbox_to_anchor=(1,0.4))\n",
    "ax[1].set_xticklabels(['Mon', 'Tue', 'Wed', 'Thu', 'Fri', 'Sat', 'Sun'])\n",
    "ax[1].set(ylabel='minuts')\n",
    "ax[1].set(xlabel=None);"
   ]
  },
  {
   "cell_type": "markdown",
   "metadata": {
    "slideshow": {
     "slide_type": "skip"
    }
   },
   "source": [
    "### Generate Slideshow\n",
    "Once you're ready to generate your slideshow, use the `jupyter nbconvert` command to generate the HTML slide show.  "
   ]
  },
  {
   "cell_type": "code",
   "execution_count": null,
   "metadata": {
    "slideshow": {
     "slide_type": "skip"
    }
   },
   "outputs": [],
   "source": [
    "# Use this command if you are running this file in local\n",
    "!jupyter nbconvert Part_II_slide_deck_template.ipynb --to slides --post serve --no-input --no-prompt"
   ]
  },
  {
   "cell_type": "markdown",
   "metadata": {
    "slideshow": {
     "slide_type": "skip"
    }
   },
   "source": [
    "### Submission\n",
    "If you are using classroom workspace, you can choose from the following two ways of submission:\n",
    "\n",
    "1. **Submit from the workspace**. Make sure you have removed the example project from the /home/workspace directory. You must submit the following files:\n",
    "   - Part_I_notebook.ipynb\n",
    "   - Part_I_notebook.html or pdf\n",
    "   - Part_II_notebook.ipynb\n",
    "   - Part_I_slides.html\n",
    "   - README.md\n",
    "   - dataset (optional)\n",
    "\n",
    "\n",
    "2. **Submit a zip file on the last page of this project lesson**. In this case, open the Jupyter terminal and run the command below to generate a ZIP file. \n",
    "```bash\n",
    "zip -r my_project.zip .\n",
    "```\n",
    "The command abobve will ZIP every file present in your /home/workspace directory. Next, you can download the zip to your local, and follow the instructions on the last page of this project lesson.\n"
   ]
  },
  {
   "cell_type": "code",
   "execution_count": null,
   "metadata": {
    "slideshow": {
     "slide_type": "skip"
    }
   },
   "outputs": [],
   "source": []
  }
 ],
 "metadata": {
  "celltoolbar": "Slideshow",
  "kernelspec": {
   "display_name": "Python 3 (ipykernel)",
   "language": "python",
   "name": "python3"
  },
  "language_info": {
   "codemirror_mode": {
    "name": "ipython",
    "version": 3
   },
   "file_extension": ".py",
   "mimetype": "text/x-python",
   "name": "python",
   "nbconvert_exporter": "python",
   "pygments_lexer": "ipython3",
   "version": "3.9.7"
  }
 },
 "nbformat": 4,
 "nbformat_minor": 2
}
